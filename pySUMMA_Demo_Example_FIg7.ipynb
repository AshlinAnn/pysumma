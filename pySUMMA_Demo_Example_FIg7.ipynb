{
 "cells": [
  {
   "cell_type": "markdown",
   "metadata": {},
   "source": [
    "#  pySUMMA Example 1 "
   ]
  },
  {
   "cell_type": "markdown",
   "metadata": {},
   "source": [
    " __This notebook implements a test of three different model representations of stomatal resistance as described in Clark et al., (2015). As seen in figure 7 of this paper, user can compare the result with this example that describe the impact of the choice stomatal resistance parameterizations on simulations of total evapotranspiration at the aspen site in Reynolds Mountain East for the intensive study period in the 2007 growing season (from 1 June to 20 August).__"
   ]
  },
  {
   "cell_type": "markdown",
   "metadata": {},
   "source": [
    "## The procedure of this pySUMMA Example 1\n",
    "\n",
    "  (1) The location of research area\n",
    "\n",
    "  (2) Making simulation object and set simulation time\n",
    " \n",
    "  (3) Assign stomatal resistance options & run SUMMA \n",
    "\n",
    "  (4) Show SUMMA output with Plot "
   ]
  },
  {
   "cell_type": "markdown",
   "metadata": {},
   "source": [
    "## (1) The location of research area"
   ]
  },
  {
   "cell_type": "markdown",
   "metadata": {},
   "source": [
    "#### (1-1) Location : The Raynolds Mountain East catchment in southwestern Idaho\n",
    "  - latitude : 43.2,      longitude : 243.2"
   ]
  },
  {
   "cell_type": "code",
   "execution_count": 1,
   "metadata": {},
   "outputs": [],
   "source": [
    "from pysumma.spatial import spatial\n",
    "import geopandas as gp\n",
    "from jupyterthemes import jtplot\n",
    "import pandas as pd\n",
    "jtplot.figsize(x=10, y=10)"
   ]
  },
  {
   "cell_type": "code",
   "execution_count": 2,
   "metadata": {},
   "outputs": [
    {
     "data": {
      "text/plain": [
       "<matplotlib.axes._subplots.AxesSubplot at 0x7f9836d568d0>"
      ]
     },
     "execution_count": 2,
     "metadata": {},
     "output_type": "execute_result"
    },
    {
     "data": {
      "image/png": "[encoded data removed]",
      "text/plain": [
       "<matplotlib.figure.Figure at 0x7f986437ecc0>"
      ]
     },
     "metadata": {},
     "output_type": "display_data"
    }
   ],
   "source": [
    "gdf = gp.GeoDataFrame.from_file('/home/hydro/Downloads/shape/ReynoldsMountainEast.shp')\n",
    "gdf.plot()"
   ]
  },
  {
   "cell_type": "markdown",
   "metadata": {},
   "source": [
    "## (2) Making simulation object and set simulation time"
   ]
  },
  {
   "cell_type": "markdown",
   "metadata": {},
   "source": [
    "#### (2-1) import Simulation Module"
   ]
  },
  {
   "cell_type": "code",
   "execution_count": 3,
   "metadata": {},
   "outputs": [],
   "source": [
    "%matplotlib inline\n",
    "from pysumma.Simulation import Simulation"
   ]
  },
  {
   "cell_type": "markdown",
   "metadata": {},
   "source": [
    "#### (2-2) Create S attribute to manipulate FileManger and Decision file"
   ]
  },
  {
   "cell_type": "code",
   "execution_count": 4,
   "metadata": {},
   "outputs": [],
   "source": [
    "S = Simulation('/home/hydro/Downloads/summaTestCases_2.x/settings/wrrPaperTestCases/figure07/summa_fileManager_riparianAspenSimpleResistance.txt')"
   ]
  },
  {
   "cell_type": "markdown",
   "metadata": {},
   "source": [
    "#### (2-3) get default value of simulation start date and time  in Decision text file"
   ]
  },
  {
   "cell_type": "code",
   "execution_count": 5,
   "metadata": {
    "scrolled": true
   },
   "outputs": [
    {
     "data": {
      "text/plain": [
       "'2006-07-01 00:00'"
      ]
     },
     "execution_count": 5,
     "metadata": {},
     "output_type": "execute_result"
    }
   ],
   "source": [
    "S.decision_obj.simulStart.value"
   ]
  },
  {
   "cell_type": "markdown",
   "metadata": {},
   "source": [
    "#### (2-4) set value of simulation start and finish date and time in Decision text file"
   ]
  },
  {
   "cell_type": "code",
   "execution_count": 9,
   "metadata": {},
   "outputs": [],
   "source": [
    "S.decision_obj.simulStart.value = \"2007-07-01 00:00\"\n",
    "S.decision_obj.simulFinsh.value = \"2007-08-20 00:00\""
   ]
  },
  {
   "cell_type": "markdown",
   "metadata": {},
   "source": [
    "#### (2-5) get available options for (06) choice of function for stomatal resistance"
   ]
  },
  {
   "cell_type": "code",
   "execution_count": 10,
   "metadata": {
    "scrolled": true
   },
   "outputs": [
    {
     "data": {
      "text/plain": [
       "['BallBerry', 'Jarvis', 'simpleResistance']"
      ]
     },
     "execution_count": 10,
     "metadata": {},
     "output_type": "execute_result"
    }
   ],
   "source": [
    "S.decision_obj.stomResist.options"
   ]
  },
  {
   "cell_type": "markdown",
   "metadata": {},
   "source": [
    "## (3) Assign stomatal resistance options & run SUMMA"
   ]
  },
  {
   "cell_type": "markdown",
   "metadata": {},
   "source": [
    "### 1. Ball-Berry method\n",
    " \n",
    "   https://github.com/DavidChoi76/pysumma/blob/master/BallBerry.png\n",
    "   \n",
    "   ![](BallBerry.png)"
   ]
  },
  {
   "cell_type": "markdown",
   "metadata": {},
   "source": [
    "### 2. Jarvis method\n",
    "    \n",
    "   https://github.com/DavidChoi76/pysumma/blob/master/Jarvis.png\n",
    "   ![](Jarvis.png)"
   ]
  },
  {
   "cell_type": "markdown",
   "metadata": {},
   "source": [
    "### 3. simple soil resistance method\n",
    "\n",
    "https://github.com/DavidChoi76/pysumma/blob/master/simple1.png\n",
    "   ![](simple.png)    "
   ]
  },
  {
   "cell_type": "markdown",
   "metadata": {},
   "source": [
    "<span style=\"color:blue\"> __Above Stomal Resistance method from The structure for unifying multiple modeling alternatives (SUMMA), Version 1.0: Technical Description (April, 2005)__"
   ]
  },
  {
   "cell_type": "markdown",
   "metadata": {},
   "source": [
    "#### (3-1) import widget package"
   ]
  },
  {
   "cell_type": "code",
   "execution_count": 11,
   "metadata": {},
   "outputs": [],
   "source": [
    "import ipywidgets as widgets\n",
    "from IPython.display import display"
   ]
  },
  {
   "cell_type": "markdown",
   "metadata": {},
   "source": [
    "#### (3-2) get default value of default stomatal resistance option"
   ]
  },
  {
   "cell_type": "code",
   "execution_count": 34,
   "metadata": {},
   "outputs": [
    {
     "data": {
      "text/plain": [
       "'simpleResistance'"
      ]
     },
     "execution_count": 34,
     "metadata": {},
     "output_type": "execute_result"
    }
   ],
   "source": [
    "S.decision_obj.stomResist.value"
   ]
  },
  {
   "cell_type": "markdown",
   "metadata": {},
   "source": [
    "#### (3-3) Select Ball Berry method"
   ]
  },
  {
   "cell_type": "code",
   "execution_count": 13,
   "metadata": {},
   "outputs": [
    {
     "data": {
      "application/vnd.jupyter.widget-view+json": {
       "model_id": "4632edefea2c403781e360932db68851",
       "version_major": 2,
       "version_minor": 0
      },
      "text/html": [
       "<p>Failed to display Jupyter Widget of type <code>Dropdown</code>.</p>\n",
       "<p>\n",
       "  If you're reading this message in the Jupyter Notebook or JupyterLab Notebook, it may mean\n",
       "  that the widgets JavaScript is still loading. If this message persists, it\n",
       "  likely means that the widgets JavaScript library is either not installed or\n",
       "  not enabled. See the <a href=\"https://ipywidgets.readthedocs.io/en/stable/user_install.html\">Jupyter\n",
       "  Widgets Documentation</a> for setup instructions.\n",
       "</p>\n",
       "<p>\n",
       "  If you're reading this message in another frontend (for example, a static\n",
       "  rendering on GitHub or <a href=\"https://nbviewer.jupyter.org/\">NBViewer</a>),\n",
       "  it may mean that your frontend doesn't currently support widgets.\n",
       "</p>\n"
      ],
      "text/plain": [
       "Dropdown(description='stomResist', options=('BallBerry', 'Jarvis', 'simpleResistance'), value='BallBerry')"
      ]
     },
     "metadata": {},
     "output_type": "display_data"
    }
   ],
   "source": [
    "storm_resist_BallBerry = S.decision_obj.stomResist\n",
    "w = widgets.Dropdown(\n",
    "    options = storm_resist_BallBerry.options,\n",
    "    description = storm_resist_BallBerry.name,\n",
    "    disabled = False)\n",
    "display(w)"
   ]
  },
  {
   "cell_type": "markdown",
   "metadata": {},
   "source": [
    "#### (3-4) Assign Ball Berry method"
   ]
  },
  {
   "cell_type": "code",
   "execution_count": 14,
   "metadata": {},
   "outputs": [],
   "source": [
    "S.decision_obj.stomResist.value = w.value"
   ]
  },
  {
   "cell_type": "markdown",
   "metadata": {},
   "source": [
    "#### (3-5) create S.executable attribute, run summa model and  get output of Ball Berry method"
   ]
  },
  {
   "cell_type": "code",
   "execution_count": 15,
   "metadata": {},
   "outputs": [],
   "source": [
    "S.executable = \"/home/hydro/Downloads/summa-master/bin/summa.exe\"\n",
    "results_BallBerry = S.execute(\"BallBerry\")"
   ]
  },
  {
   "cell_type": "markdown",
   "metadata": {},
   "source": [
    "#### (3-6) Select Jarvis method"
   ]
  },
  {
   "cell_type": "code",
   "execution_count": 16,
   "metadata": {
    "scrolled": true
   },
   "outputs": [
    {
     "data": {
      "application/vnd.jupyter.widget-view+json": {
       "model_id": "b9a9d7cba2204289ba1d6f7ef1a6e583",
       "version_major": 2,
       "version_minor": 0
      },
      "text/html": [
       "<p>Failed to display Jupyter Widget of type <code>Dropdown</code>.</p>\n",
       "<p>\n",
       "  If you're reading this message in the Jupyter Notebook or JupyterLab Notebook, it may mean\n",
       "  that the widgets JavaScript is still loading. If this message persists, it\n",
       "  likely means that the widgets JavaScript library is either not installed or\n",
       "  not enabled. See the <a href=\"https://ipywidgets.readthedocs.io/en/stable/user_install.html\">Jupyter\n",
       "  Widgets Documentation</a> for setup instructions.\n",
       "</p>\n",
       "<p>\n",
       "  If you're reading this message in another frontend (for example, a static\n",
       "  rendering on GitHub or <a href=\"https://nbviewer.jupyter.org/\">NBViewer</a>),\n",
       "  it may mean that your frontend doesn't currently support widgets.\n",
       "</p>\n"
      ],
      "text/plain": [
       "Dropdown(description='stomResist', options=('BallBerry', 'Jarvis', 'simpleResistance'), value='BallBerry')"
      ]
     },
     "metadata": {},
     "output_type": "display_data"
    }
   ],
   "source": [
    "storm_resist_Jarvis = S.decision_obj.stomResist\n",
    "w = widgets.Dropdown(\n",
    "    options = storm_resist_Jarvis.options,\n",
    "    description = storm_resist_Jarvis.name,\n",
    "    disabled = False)\n",
    "display(w)"
   ]
  },
  {
   "cell_type": "markdown",
   "metadata": {},
   "source": [
    "#### (3-7) Assign Jarvis method"
   ]
  },
  {
   "cell_type": "code",
   "execution_count": 17,
   "metadata": {},
   "outputs": [],
   "source": [
    "S.decision_obj.stomResist.value = w.value"
   ]
  },
  {
   "cell_type": "markdown",
   "metadata": {},
   "source": [
    "#### (3-8) Run summa model and get output of Jarvis method"
   ]
  },
  {
   "cell_type": "code",
   "execution_count": 18,
   "metadata": {},
   "outputs": [],
   "source": [
    "results_Jarvis = S.execute(\"Jarvis\")"
   ]
  },
  {
   "cell_type": "markdown",
   "metadata": {
    "scrolled": true
   },
   "source": [
    "#### (3-9) Select simple soil resistance method"
   ]
  },
  {
   "cell_type": "code",
   "execution_count": 19,
   "metadata": {},
   "outputs": [
    {
     "data": {
      "application/vnd.jupyter.widget-view+json": {
       "model_id": "37f4d6d442cd4fb488e4bc4366db80c7",
       "version_major": 2,
       "version_minor": 0
      },
      "text/html": [
       "<p>Failed to display Jupyter Widget of type <code>Dropdown</code>.</p>\n",
       "<p>\n",
       "  If you're reading this message in the Jupyter Notebook or JupyterLab Notebook, it may mean\n",
       "  that the widgets JavaScript is still loading. If this message persists, it\n",
       "  likely means that the widgets JavaScript library is either not installed or\n",
       "  not enabled. See the <a href=\"https://ipywidgets.readthedocs.io/en/stable/user_install.html\">Jupyter\n",
       "  Widgets Documentation</a> for setup instructions.\n",
       "</p>\n",
       "<p>\n",
       "  If you're reading this message in another frontend (for example, a static\n",
       "  rendering on GitHub or <a href=\"https://nbviewer.jupyter.org/\">NBViewer</a>),\n",
       "  it may mean that your frontend doesn't currently support widgets.\n",
       "</p>\n"
      ],
      "text/plain": [
       "Dropdown(description='stomResist', options=('BallBerry', 'Jarvis', 'simpleResistance'), value='BallBerry')"
      ]
     },
     "metadata": {},
     "output_type": "display_data"
    }
   ],
   "source": [
    "storm_resist_simResist = S.decision_obj.stomResist\n",
    "w = widgets.Dropdown(\n",
    "    options = storm_resist_simResist.options,\n",
    "    description = storm_resist_simResist.name,\n",
    "    disabled = False)\n",
    "display(w)"
   ]
  },
  {
   "cell_type": "markdown",
   "metadata": {},
   "source": [
    "#### (3-10) Assign simple soil resistance method"
   ]
  },
  {
   "cell_type": "code",
   "execution_count": 33,
   "metadata": {},
   "outputs": [],
   "source": [
    "S.decision_obj.stomResist.value = w.value"
   ]
  },
  {
   "cell_type": "markdown",
   "metadata": {},
   "source": [
    "#### (3-11) Run summa model and get output of simple soil resistance method"
   ]
  },
  {
   "cell_type": "code",
   "execution_count": 35,
   "metadata": {},
   "outputs": [],
   "source": [
    "results_simpleResistance = S.execute(\"simpleResistance\")"
   ]
  },
  {
   "cell_type": "markdown",
   "metadata": {},
   "source": [
    "## (4) Show SUMMA output with Plot"
   ]
  },
  {
   "cell_type": "code",
   "execution_count": 36,
   "metadata": {},
   "outputs": [],
   "source": [
    "from pysumma.Plotting import Plotting\n",
    "import matplotlib.pyplot as plt\n",
    "jtplot.figsize(x=10, y=10)"
   ]
  },
  {
   "cell_type": "markdown",
   "metadata": {},
   "source": [
    "#### (4-1) Get hour of day output of BallBerry method from  1 June to 20 August"
   ]
  },
  {
   "cell_type": "code",
   "execution_count": 37,
   "metadata": {},
   "outputs": [],
   "source": [
    "BallBerry = (results_BallBerry['scalarCanopyTranspiration'] + results_BallBerry['scalarCanopyEvaporation'] + results_BallBerry['scalarGroundEvaporation'])*3600\n",
    "dates = BallBerry.coords['time'].data\n",
    "data_values = BallBerry.data\n",
    "df = pd.DataFrame(data_values, index=dates)\n",
    "df.index = df.index.round(\"H\")\n",
    "df_filt = df.loc[\"2007-06-01\":\"2007-08-20\"]\n",
    "df_filt_hour = df_filt.resample(\"H\").mean()\n",
    "BallBerry_hour = df_filt_hour.groupby(df_filt_hour.index.hour).mean()"
   ]
  },
  {
   "cell_type": "markdown",
   "metadata": {},
   "source": [
    "#### (4-2) Get hour of day output of Jarvis method from  1 June to 20 August"
   ]
  },
  {
   "cell_type": "code",
   "execution_count": 38,
   "metadata": {},
   "outputs": [],
   "source": [
    "Jarvis = (results_Jarvis['scalarCanopyTranspiration'] + results_Jarvis['scalarCanopyEvaporation'] + results_Jarvis['scalarGroundEvaporation'])*3600\n",
    "dates = Jarvis.coords['time'].data\n",
    "data_values = Jarvis.data\n",
    "df = pd.DataFrame(data_values, index=dates)\n",
    "df.index = df.index.round(\"H\")\n",
    "df_filt = df.loc[\"2007-06-01\":\"2007-08-20\"]\n",
    "df_filt_hour = df_filt.resample(\"H\").mean()\n",
    "Jarvis_hour = df_filt_hour.groupby(df_filt_hour.index.hour).mean()"
   ]
  },
  {
   "cell_type": "markdown",
   "metadata": {},
   "source": [
    "#### (4-3) Get hour of day output of simple soil resistance method from  1 June to 20 August"
   ]
  },
  {
   "cell_type": "code",
   "execution_count": 39,
   "metadata": {},
   "outputs": [],
   "source": [
    "simResist = (results_simpleResistance['scalarCanopyTranspiration'] + results_simpleResistance['scalarCanopyEvaporation'] + results_simpleResistance['scalarGroundEvaporation'])*3600\n",
    "dates = simResist.coords['time'].data\n",
    "data_values = simResist.data\n",
    "df = pd.DataFrame(data_values, index=dates)\n",
    "df.index = df.index.round(\"H\")\n",
    "df_filt = df.loc[\"2007-06-01\":\"2007-08-20\"]\n",
    "df_filt_hour = df_filt.resample(\"H\").mean()\n",
    "simResis_hour = df_filt_hour.groupby(df_filt_hour.index.hour).mean()"
   ]
  },
  {
   "cell_type": "markdown",
   "metadata": {},
   "source": [
    "#### (4-4) Combine each options and add labels"
   ]
  },
  {
   "cell_type": "code",
   "execution_count": 40,
   "metadata": {},
   "outputs": [],
   "source": [
    "ET_Combine = pd.concat([BallBerry_hour, Jarvis_hour,simResis_hour], axis=1)\n",
    "ET_Combine.columns = ['Ball-Berry', 'Jarvis', 'Simple resistance']"
   ]
  },
  {
   "cell_type": "markdown",
   "metadata": {},
   "source": [
    "#### (4-5) Result Table of three stomatal resistance methods"
   ]
  },
  {
   "cell_type": "code",
   "execution_count": 41,
   "metadata": {
    "scrolled": true
   },
   "outputs": [
    {
     "data": {
      "text/html": [
       "<div>\n",
       "<style scoped>\n",
       "    .dataframe tbody tr th:only-of-type {\n",
       "        vertical-align: middle;\n",
       "    }\n",
       "\n",
       "    .dataframe tbody tr th {\n",
       "        vertical-align: top;\n",
       "    }\n",
       "\n",
       "    .dataframe thead th {\n",
       "        text-align: right;\n",
       "    }\n",
       "</style>\n",
       "<table border=\"1\" class=\"dataframe\">\n",
       "  <thead>\n",
       "    <tr style=\"text-align: right;\">\n",
       "      <th></th>\n",
       "      <th>Ball-Berry</th>\n",
       "      <th>Jarvis</th>\n",
       "      <th>Simple resistance</th>\n",
       "    </tr>\n",
       "  </thead>\n",
       "  <tbody>\n",
       "    <tr>\n",
       "      <th>0</th>\n",
       "      <td>-0.015287</td>\n",
       "      <td>-0.011658</td>\n",
       "      <td>-0.035278</td>\n",
       "    </tr>\n",
       "    <tr>\n",
       "      <th>1</th>\n",
       "      <td>-0.014787</td>\n",
       "      <td>-0.011367</td>\n",
       "      <td>-0.035717</td>\n",
       "    </tr>\n",
       "    <tr>\n",
       "      <th>2</th>\n",
       "      <td>-0.013658</td>\n",
       "      <td>-0.010480</td>\n",
       "      <td>-0.030926</td>\n",
       "    </tr>\n",
       "    <tr>\n",
       "      <th>3</th>\n",
       "      <td>-0.011582</td>\n",
       "      <td>-0.008543</td>\n",
       "      <td>-0.031286</td>\n",
       "    </tr>\n",
       "    <tr>\n",
       "      <th>4</th>\n",
       "      <td>-0.010706</td>\n",
       "      <td>-0.007906</td>\n",
       "      <td>-0.029081</td>\n",
       "    </tr>\n",
       "    <tr>\n",
       "      <th>5</th>\n",
       "      <td>-0.010698</td>\n",
       "      <td>-0.008058</td>\n",
       "      <td>-0.032018</td>\n",
       "    </tr>\n",
       "    <tr>\n",
       "      <th>6</th>\n",
       "      <td>-0.012603</td>\n",
       "      <td>-0.011350</td>\n",
       "      <td>-0.033209</td>\n",
       "    </tr>\n",
       "    <tr>\n",
       "      <th>7</th>\n",
       "      <td>-0.045649</td>\n",
       "      <td>-0.044883</td>\n",
       "      <td>-0.050479</td>\n",
       "    </tr>\n",
       "    <tr>\n",
       "      <th>8</th>\n",
       "      <td>-0.124121</td>\n",
       "      <td>-0.122752</td>\n",
       "      <td>-0.114845</td>\n",
       "    </tr>\n",
       "    <tr>\n",
       "      <th>9</th>\n",
       "      <td>-0.195222</td>\n",
       "      <td>-0.194044</td>\n",
       "      <td>-0.173953</td>\n",
       "    </tr>\n",
       "    <tr>\n",
       "      <th>10</th>\n",
       "      <td>-0.240441</td>\n",
       "      <td>-0.250515</td>\n",
       "      <td>-0.224883</td>\n",
       "    </tr>\n",
       "    <tr>\n",
       "      <th>11</th>\n",
       "      <td>-0.250184</td>\n",
       "      <td>-0.288234</td>\n",
       "      <td>-0.264740</td>\n",
       "    </tr>\n",
       "    <tr>\n",
       "      <th>12</th>\n",
       "      <td>-0.248936</td>\n",
       "      <td>-0.304776</td>\n",
       "      <td>-0.289580</td>\n",
       "    </tr>\n",
       "    <tr>\n",
       "      <th>13</th>\n",
       "      <td>-0.243766</td>\n",
       "      <td>-0.313849</td>\n",
       "      <td>-0.311169</td>\n",
       "    </tr>\n",
       "    <tr>\n",
       "      <th>14</th>\n",
       "      <td>-0.237796</td>\n",
       "      <td>-0.314618</td>\n",
       "      <td>-0.328347</td>\n",
       "    </tr>\n",
       "    <tr>\n",
       "      <th>15</th>\n",
       "      <td>-0.226310</td>\n",
       "      <td>-0.302430</td>\n",
       "      <td>-0.321569</td>\n",
       "    </tr>\n",
       "    <tr>\n",
       "      <th>16</th>\n",
       "      <td>-0.224434</td>\n",
       "      <td>-0.290602</td>\n",
       "      <td>-0.311324</td>\n",
       "    </tr>\n",
       "    <tr>\n",
       "      <th>17</th>\n",
       "      <td>-0.198218</td>\n",
       "      <td>-0.252679</td>\n",
       "      <td>-0.270668</td>\n",
       "    </tr>\n",
       "    <tr>\n",
       "      <th>18</th>\n",
       "      <td>-0.164104</td>\n",
       "      <td>-0.211247</td>\n",
       "      <td>-0.220754</td>\n",
       "    </tr>\n",
       "    <tr>\n",
       "      <th>19</th>\n",
       "      <td>-0.097326</td>\n",
       "      <td>-0.132421</td>\n",
       "      <td>-0.142854</td>\n",
       "    </tr>\n",
       "    <tr>\n",
       "      <th>20</th>\n",
       "      <td>-0.034278</td>\n",
       "      <td>-0.050964</td>\n",
       "      <td>-0.083728</td>\n",
       "    </tr>\n",
       "    <tr>\n",
       "      <th>21</th>\n",
       "      <td>-0.029542</td>\n",
       "      <td>-0.024190</td>\n",
       "      <td>-0.061634</td>\n",
       "    </tr>\n",
       "    <tr>\n",
       "      <th>22</th>\n",
       "      <td>-0.024082</td>\n",
       "      <td>-0.019327</td>\n",
       "      <td>-0.042278</td>\n",
       "    </tr>\n",
       "    <tr>\n",
       "      <th>23</th>\n",
       "      <td>-0.017101</td>\n",
       "      <td>-0.013150</td>\n",
       "      <td>-0.032112</td>\n",
       "    </tr>\n",
       "  </tbody>\n",
       "</table>\n",
       "</div>"
      ],
      "text/plain": [
       "    Ball-Berry    Jarvis  Simple resistance\n",
       "0    -0.015287 -0.011658          -0.035278\n",
       "1    -0.014787 -0.011367          -0.035717\n",
       "2    -0.013658 -0.010480          -0.030926\n",
       "3    -0.011582 -0.008543          -0.031286\n",
       "4    -0.010706 -0.007906          -0.029081\n",
       "5    -0.010698 -0.008058          -0.032018\n",
       "6    -0.012603 -0.011350          -0.033209\n",
       "7    -0.045649 -0.044883          -0.050479\n",
       "8    -0.124121 -0.122752          -0.114845\n",
       "9    -0.195222 -0.194044          -0.173953\n",
       "10   -0.240441 -0.250515          -0.224883\n",
       "11   -0.250184 -0.288234          -0.264740\n",
       "12   -0.248936 -0.304776          -0.289580\n",
       "13   -0.243766 -0.313849          -0.311169\n",
       "14   -0.237796 -0.314618          -0.328347\n",
       "15   -0.226310 -0.302430          -0.321569\n",
       "16   -0.224434 -0.290602          -0.311324\n",
       "17   -0.198218 -0.252679          -0.270668\n",
       "18   -0.164104 -0.211247          -0.220754\n",
       "19   -0.097326 -0.132421          -0.142854\n",
       "20   -0.034278 -0.050964          -0.083728\n",
       "21   -0.029542 -0.024190          -0.061634\n",
       "22   -0.024082 -0.019327          -0.042278\n",
       "23   -0.017101 -0.013150          -0.032112"
      ]
     },
     "execution_count": 41,
     "metadata": {},
     "output_type": "execute_result"
    }
   ],
   "source": [
    "ET_Combine"
   ]
  },
  {
   "cell_type": "markdown",
   "metadata": {},
   "source": [
    "#### (4-6) Add Obervation data in Aspen station in Reynolds Mountain East"
   ]
  },
  {
   "cell_type": "code",
   "execution_count": 42,
   "metadata": {},
   "outputs": [],
   "source": [
    "Val_eddyFlux = Plotting('/home/hydro/Downloads/summaTestCases_2.x/testCases_data/validationData/ReynoldsCreek_eddyFlux.nc')\n",
    "ValData_eddyFlux = Val_eddyFlux.open_netcdf()"
   ]
  },
  {
   "cell_type": "code",
   "execution_count": 43,
   "metadata": {},
   "outputs": [],
   "source": [
    "Obs_Evapotranspitaton = Val_eddyFlux.ds['LE-wpl']\n",
    "dates = Obs_Evapotranspitaton.coords['time'].data\n",
    "data_values = Obs_Evapotranspitaton.data*0.0864*0.408/24\n",
    "df = pd.DataFrame(data_values, index=dates)\n",
    "df_filt = df.loc[\"2007-06-01\":\"2007-08-20\"]\n",
    "df_filt_hour = df_filt.resample(\"30T\").mean()\n",
    "df_filt_hour.columns = ['-','Observation (aspen)','-']\n",
    "df_gp_hr = df_filt_hour.groupby([df_filt_hour.index.hour, df_filt_hour.index.minute]).mean()\n",
    "df_gp_hr.reset_index(inplace=True)\n",
    "xvals = df_gp_hr.reset_index()['level_0'] + df_gp_hr.reset_index()['level_1']/60."
   ]
  },
  {
   "cell_type": "markdown",
   "metadata": {},
   "source": [
    "#### (4-7) Plotting output of three options and observation data"
   ]
  },
  {
   "cell_type": "code",
   "execution_count": 44,
   "metadata": {
    "scrolled": true
   },
   "outputs": [
    {
     "data": {
      "text/plain": [
       "<matplotlib.legend.Legend at 0x7f9821990cf8>"
      ]
     },
     "execution_count": 44,
     "metadata": {},
     "output_type": "execute_result"
    },
    {
     "data": {
      "image/png": "[encoded data removed]",
      "text/plain": [
       "<matplotlib.figure.Figure at 0x7f9821990898>"
      ]
     },
     "metadata": {},
     "output_type": "display_data"
    }
   ],
   "source": [
    "ET_Combine_Graph = ET_Combine.plot()\n",
    "ET_Combine_Graph.invert_yaxis()\n",
    "ET_Combine_Graph.scatter(xvals, df_gp_hr['Observation (aspen)'])\n",
    "ET_Combine_Graph.legend()"
   ]
  },
  {
   "cell_type": "markdown",
   "metadata": {},
   "source": [
    "### Description of Figure 7 (Clark et al., (2015))"
   ]
  },
  {
   "cell_type": "markdown",
   "metadata": {},
   "source": [
    "* The simulations in Figure 7 illustrate substantial differences in the estimates of the diurnal cycle of transpiration depending on the choice of stomatal resistance parameterization. \n",
    "* The simple soil resistance parameterization [Liang et al., 1994], when combined with the two-source model of within-canopy and below-canopy turbulence [Choudhury and Monteith, 1988; Clark et al., 2015a], results in a substantial amount of transpiration at night when there is no light available for photosynthesis. \n",
    "* The physiological representations of transpiration – using the Jarvis and Ball-Berry parameterizations, as defined in Clark et al. [2015a] – have an explicit dependence on photosynthetically active radiation and show the expected result of zero transpiration during nighttime hours, resulting in a poor match with observations (Figure 7).\n",
    "* A striking result from Figure 7 is that the Ball-Berry parameterization underestimates evapotranspiration when applied using the default model parameters for stomatal resistance in combination with the particular choice of process parameterizations and parameters for soil hydrology."
   ]
  }
 ],
 "metadata": {
  "kernelspec": {
   "display_name": "Python 3",
   "language": "python",
   "name": "python3"
  },
  "language_info": {
   "codemirror_mode": {
    "name": "ipython",
    "version": 3
   },
   "file_extension": ".py",
   "mimetype": "text/x-python",
   "name": "python",
   "nbconvert_exporter": "python",
   "pygments_lexer": "ipython3",
   "version": "3.6.3"
  }
 },
 "nbformat": 4,
 "nbformat_minor": 2
}
