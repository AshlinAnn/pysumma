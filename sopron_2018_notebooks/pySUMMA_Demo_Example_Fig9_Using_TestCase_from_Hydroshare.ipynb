{
 "cells": [
  {
   "cell_type": "markdown",
   "metadata": {},
   "source": [
    "##  Modeling the Impact of Lateral Flow Parameterizations on Basin Wide Runoff in the Reynolds Mountain East catchment using pySUMMA"
   ]
  },
  {
   "cell_type": "markdown",
   "metadata": {},
   "source": [
    "## 1. Introduction"
   ]
  },
  {
   "cell_type": "markdown",
   "metadata": {},
   "source": [
    "One part of the Clark et al. (2015) study explored the impact of the lateral flux of liquid water on total evapotranspiration (ET) using a SUMMA model for the Reynolds Mountain East catchment. This study looked at the sensitivity of the different model representation of the lateral flux of liquid water, which determines the availability of soil water.\n",
    "\n",
    "In this Jupyter Notebook, the pySUMMA library is used to reproduce this analysis. First, the latertal flux from the soil profile is described. Next, the Methods section describes how the pySUMMA can be used to create three different lateral model representation of the Reynolds Mountain East catchment model, 1d Richards', lumped topmodel, and distributed topmodel. The Results section shows how to use pySUMMA and the Pandas library to reproduce Figure 8(right) from Clark et al. (2015).\n",
    "\n",
    "Collectively, this Jupyter Notebook serves as an example of how hydrologic modeling can be conducted directly within a Jupyter Notebook by leveraging the pySUMMA library. \n",
    "\n",
    " |                    Method                   | 1dRichards' |   Lumped Topmodel |   Distributed Topmodel |\n",
    " |---------------------------------------------|-------------|-------------------|------------------------|\n",
    " |         groundwater parameterization        | noXplict    | qTopmodl          | qTopmodl               |\n",
    " |       hydraulic conductivity profile        | constant    | pow_prof          | pow_prof               |\n",
    " |lower boundary condition for soil hydrology  | drainage    | zeroFlux          | zeroFlux               |\n",
    " |thermal conductivity representation for soil | mixConstit  | funcSoilWet       | funcSoilWet            |"
   ]
  },
  {
   "cell_type": "markdown",
   "metadata": {},
   "source": [
    "## 2. Background"
   ]
  },
  {
   "cell_type": "markdown",
   "metadata": {},
   "source": [
    "### The Transpiration from soil layers available in SUMMA"
   ]
  },
  {
   "cell_type": "code",
   "execution_count": 159,
   "metadata": {},
   "outputs": [],
   "source": [
    "#import libraries to display equations within the notebook\n",
    "from IPython.display import display, Math, Latex"
   ]
  },
  {
   "cell_type": "markdown",
   "metadata": {},
   "source": [
    "### Latertal flux from the soil profile"
   ]
  },
  {
   "cell_type": "markdown",
   "metadata": {},
   "source": [
    "The soil columns can be hydrologically connected, such that the lateral flux from upslope soil columns is the inflow to downslope soil columns, or hydrologically-disconnected (using one or many soil columns), in which case the lateral flux of water from soil columns is assumed to flow directly into the river network."
   ]
  },
  {
   "cell_type": "markdown",
   "metadata": {},
   "source": [
    "The continuity equation for sub-surface storage (i.e., below the water table) can be written for a given model element as [Wigmosta et al., 1994]\n",
    "\n",
    "\\begin{equation*}\n",
    "Q_{dr} = \\frac{dz_{wt}}{dt} = \\frac{Q_{out}-Q_{in}}{A} - q_{rchg}\n",
    "\\end{equation*}\n",
    "\n",
    "$Q_{dr} = (\\theta_{sat}^{soil} - \\theta_{fc}^{soil}) $ : “drainable” porosity, $\\theta_{fc}^{soil}$ : the field capacity of soil, $z_{wt}$ $(m)$ : the depth to the water table\n",
    "\n",
    "$Q_{out}$ and $Q_{in}$ $(m^{3}/s)$: the lateral inflow and outflow, $q_{rchg}$ $(m/s)$ : the vertical recharge rate, $A$ $(m^2)$ : the element area"
   ]
  },
  {
   "cell_type": "markdown",
   "metadata": {},
   "source": [
    "#### Storage-based implementation to represent lateral flow between soil columns"
   ]
  },
  {
   "cell_type": "markdown",
   "metadata": {},
   "source": [
    "The “drainable” water storage and the maximum drainable water storage can be given as\n",
    "\\begin{equation*}\n",
    "W_{dr}^{soil} = \\int_{z_{crit}}^{z_{soil}}\\ [\\theta_{liq}^{soil} (z) - \\theta_{fc}^{soil} ] \\mathrm{d}z, \\          W_{dr,max}^{soil} = \\phi_{dr}z_{soil}\n",
    "\\end{equation*}\n",
    "\n",
    "$\\theta_{liq}^{soil} (z)$ : the volumetric liquid water content at soil depth z, $z_{crit}$ : the lowest point in the soil profile where $\\theta_{liq}^{soil}$ < $\\theta_{fc}^{soil}$"
   ]
  },
  {
   "cell_type": "markdown",
   "metadata": {},
   "source": [
    "#### The total lateral outflow"
   ]
  },
  {
   "cell_type": "markdown",
   "metadata": {},
   "source": [
    "\\begin{equation*}\n",
    "Q_{out} = x_{len}tan(\\beta) \\frac{K_{sat}^{0} W_{dr,max}^{soil}}{\\phi_{dr}n_{sf}}[\\frac{W_{dr}^{soil}}{W_{dr,max}^{soil}}]^{n_{sf}}\n",
    "\\end{equation*}\n",
    "\n",
    "$\\beta$ : the gradient in the land surface, used to approximate the water table gradient"
   ]
  },
  {
   "cell_type": "markdown",
   "metadata": {},
   "source": [
    "#### The total lateral flux"
   ]
  },
  {
   "cell_type": "markdown",
   "metadata": {},
   "source": [
    "\\begin{equation*}\n",
    "q_{base}^{soil} =  \\frac{Q_{out}-Q_{in}}{A}\n",
    "\\end{equation*}\n",
    "\n",
    "The total lateral flux $q_{base}^{soil}$ can then be apportioned to individual soil layers, obtained after spatial discretization described in Clark et al. [2015b], to provide the lateral flow sink term"
   ]
  },
  {
   "cell_type": "markdown",
   "metadata": {},
   "source": [
    "\\begin{equation*}\n",
    "(S_{lf})_{j} = (w_{tv})_{j}   q_{base}^{soil}\n",
    "\\end{equation*}\n",
    "\n",
    "$(w_{tv})_{j}$ : the ratio of the transmissivity of the $j$-th layer to the total transmissivity"
   ]
  },
  {
   "cell_type": "markdown",
   "metadata": {},
   "source": [
    "The above descriptions are taken from the lateral flux from the soil profile section(3.2.3.5) within the manual Structure for Unifying Multiple Modeling Alternatives (SUMMA), Version 1.0: Technical Description (April, 2015)."
   ]
  },
  {
   "cell_type": "markdown",
   "metadata": {},
   "source": [
    "## 3. Methods"
   ]
  },
  {
   "cell_type": "markdown",
   "metadata": {},
   "source": [
    "### 1) Study Area"
   ]
  },
  {
   "cell_type": "markdown",
   "metadata": {},
   "source": [
    "#### The Reynolds Mountain East catchment is located in southwestern Idaho as shown in the figure below."
   ]
  },
  {
   "cell_type": "code",
   "execution_count": 1,
   "metadata": {},
   "outputs": [],
   "source": [
    "from ipyleaflet import Map, GeoJSON\n",
    "import json"
   ]
  },
  {
   "cell_type": "code",
   "execution_count": 2,
   "metadata": {
    "scrolled": true
   },
   "outputs": [
    {
     "data": {
      "application/vnd.jupyter.widget-view+json": {
       "model_id": "dc009180d6f14b0ebcdf4eb56fcc2c0a",
       "version_major": 2,
       "version_minor": 0
      },
      "text/html": [
       "<p>Failed to display Jupyter Widget of type <code>Map</code>.</p>\n",
       "<p>\n",
       "  If you're reading this message in the Jupyter Notebook or JupyterLab Notebook, it may mean\n",
       "  that the widgets JavaScript is still loading. If this message persists, it\n",
       "  likely means that the widgets JavaScript library is either not installed or\n",
       "  not enabled. See the <a href=\"https://ipywidgets.readthedocs.io/en/stable/user_install.html\">Jupyter\n",
       "  Widgets Documentation</a> for setup instructions.\n",
       "</p>\n",
       "<p>\n",
       "  If you're reading this message in another frontend (for example, a static\n",
       "  rendering on GitHub or <a href=\"https://nbviewer.jupyter.org/\">NBViewer</a>),\n",
       "  it may mean that your frontend doesn't currently support widgets.\n",
       "</p>\n"
      ],
      "text/plain": [
       "Map(basemap={'url': 'https://{s}.tile.openstreetmap.org/{z}/{x}/{y}.png', 'max_zoom': 19, 'attribution': 'Map data (c) <a href=\"https://openstreetmap.org\">OpenStreetMap</a> contributors'}, center=[43.06745, -116.75489], layers=(TileLayer(base=True, max_zoom=19, min_zoom=1, options=['attribution', 'detect_retina', 'max_zoom', 'min_zoom', 'tile_size']), GeoJSON(data={'type': 'FeatureCollection', 'name': 'reynolds_geojson_latlon', 'crs': {'type': 'name', 'properties': {'name': 'urn:ogc:def:crs:OGC:1.3:CRS84'}}, 'features': [{'type': 'Feature', 'properties': {'OBJECTID': 1, 'RCEW_REGIO': 376208.194027, 'PERIMETER': 3340.0, 'RMEAST_MAS': 2, 'RMEAST_M_1': 2, 'GRID_CODE': 1}, 'geometry': {'type': 'Polygon', 'coordinates': [[[-116.7557156288284, 43.07072983625339], [-116.75559279969227, 43.07072957489522], [-116.75559315872648, 43.07063952502811], [-116.75547032977175, 43.07063926353894], [-116.75534750204696, 43.07063900192053], [-116.75522467432737, 43.07063873926983], [-116.7551018453776, 43.07063847738518], [-116.75510220512943, 43.0705484275199], [-116.75497937636112, 43.07054816550426], [-116.75497973629112, 43.070458115638395], [-116.75485690770425, 43.07045785349174], [-116.7547340803473, 43.07045759121584], [-116.754611252992, 43.070457328808125], [-116.75448842441011, 43.07045706626597], [-116.75436559706174, 43.070456802694125], [-116.75424276848315, 43.07045653988829], [-116.75424312949033, 43.070366490025975], [-116.75412030232148, 43.070366227091775], [-116.75399747392602, 43.0703659640231], [-116.75399783529119, 43.07027591416101], [-116.75387500707716, 43.07027565096134], [-116.7537521800931, 43.07027538763253], [-116.75362935188241, 43.07027512416918], [-116.75362971378532, 43.07018507430818], [-116.75363007445833, 43.07009502444305], [-116.75363043635795, 43.07000497457918], [-116.75363079702761, 43.06991492471125], [-116.75375362451547, 43.06991518907176], [-116.75375398500368, 43.06982513920156], [-116.75375434671845, 43.06973508933261], [-116.75375470720336, 43.06964503945952], [-116.75363188147955, 43.06964477600465], [-116.7536322421426, 43.069554726130995], [-116.75350941660027, 43.06955446254514], [-116.75350977744145, 43.06946441267091], [-116.75338695208056, 43.06946414895402], [-116.75338731309988, 43.0693740990792], [-116.75326448792045, 43.06937383523132], [-116.75326485034614, 43.06928378535855], [-116.75314202411995, 43.06928352137701], [-116.75301919912368, 43.069283257266314], [-116.75301956067906, 43.06919320739113], [-116.753019923461, 43.06910315751716], [-116.75289709759774, 43.069102893273666], [-116.7527742729644, 43.06910262890097], [-116.75277463610426, 43.06901257902725], [-116.75265181042415, 43.069012314520926], [-116.75265217374212, 43.06892226464661], [-116.75252934824346, 43.06892200000929], [-116.75252971173958, 43.06883195013435], [-116.7525300740058, 43.0687419002554], [-116.75240725009662, 43.068741635490554], [-116.75240761254095, 43.06865158561097], [-116.75240797621186, 43.06856153573259], [-116.75240833865288, 43.06847148585014], [-116.7524087023168, 43.06838143686942], [-116.75228587790387, 43.06838117107297], [-116.75228624174592, 43.068291122091665], [-116.7522866043617, 43.068201072205795], [-116.75228696820399, 43.06811102232113], [-116.75228733081644, 43.06802097243243], [-116.75228769465541, 43.067930922544896], [-116.75228805726088, 43.067840873553784], [-116.75228842109648, 43.06775082366344], [-116.75216559794013, 43.06775055864152], [-116.75216596195388, 43.06766050875055], [-116.75204313897898, 43.06766024359765], [-116.75192031723756, 43.067659977415076], [-116.7517974954942, 43.067659712001166], [-116.75167467252432, 43.06765944645277], [-116.75167503725551, 43.06756939656374], [-116.75167540075684, 43.067479346670616], [-116.75167576548104, 43.067389297679235], [-116.75167612897903, 43.06729924778324], [-116.75155330795809, 43.067298982109065], [-116.75155367163417, 43.06720893221254], [-116.75155403653679, 43.06711888231719], [-116.7515544002095, 43.067028832417755], [-116.75155476510872, 43.06693878251961], [-116.75143194358047, 43.06693851671426], [-116.75143230865777, 43.06684846681553], [-116.75130948853915, 43.066848200881864], [-116.75130985256638, 43.06675815097988], [-116.75118703262919, 43.06675788491523], [-116.75118739683452, 43.06666783501263], [-116.75118776226276, 43.06657778601176], [-116.75106494146222, 43.066577518913846], [-116.75106530706852, 43.06648746991238], [-116.75094248644945, 43.0664872026835], [-116.75094285223385, 43.06639715368145], [-116.75082003179624, 43.066396886321584], [-116.75082039775869, 43.06630683731896], [-116.75069757873075, 43.066306569830786], [-116.75069794364312, 43.06621652082491], [-116.7505751247966, 43.066216253205766], [-116.75057548988707, 43.06612620419928], [-116.75045267122199, 43.06612593644918], [-116.75045303649055, 43.06603588744212], [-116.75033021800695, 43.06603561956104], [-116.75033058345359, 43.065945570553396], [-116.75020776515143, 43.06594530254135], [-116.75020813200432, 43.06585525353577], [-116.75020849763101, 43.06576520362563], [-116.75008567968639, 43.06576493638401], [-116.75008604549117, 43.06567488647322], [-116.75008641252242, 43.065584836563744], [-116.74996359371086, 43.06558456918925], [-116.7499639609202, 43.065494519279184], [-116.74996432689967, 43.065404469365035], [-116.74996469410563, 43.06531441945208], [-116.74996506007805, 43.06522437043556], [-116.74996542728063, 43.06513432051978], [-116.74984260936957, 43.06513405301767], [-116.74984297675023, 43.06504400310135], [-116.74972015902064, 43.06504373546833], [-116.74972052657935, 43.064953685551345], [-116.74959770903118, 43.06495341778737], [-116.74959807676798, 43.06486336786981], [-116.7495984432749, 43.06477331794819], [-116.74959881100831, 43.06468326802785], [-116.74959917750822, 43.064593219003854], [-116.74959954523823, 43.06450316908064], [-116.7495999117384, 43.06441311915332], [-116.74947709649865, 43.064412851265224], [-116.74947746317322, 43.064322802237804], [-116.7494778310779, 43.06423275231115], [-116.74947819775275, 43.06414270238042], [-116.74947856565407, 43.06405265245087], [-116.74947893232557, 43.06396260251726], [-116.7494793002198, 43.06387255348542], [-116.74947966688791, 43.06378250354897], [-116.74948003478247, 43.06369245361374], [-116.74948040144716, 43.063602403674444], [-116.74960321629733, 43.063602671557646], [-116.74960358278061, 43.06351262161607], [-116.7497263974527, 43.063512889366656], [-116.74972676375454, 43.06342283942277], [-116.74984957824856, 43.06342310704069], [-116.74984994436898, 43.0633330570946], [-116.74997275745312, 43.06333332547769], [-116.74997312462025, 43.063243275532], [-116.74997349055754, 43.06315322558218], [-116.75009630451568, 43.063153492933985], [-116.75009667027156, 43.06306344298194], [-116.75009703725017, 43.06297339393163], [-116.7502198496224, 43.062973661147254], [-116.75021948404797, 43.0630637111016], [-116.75034229660163, 43.06306397818628], [-116.75046510915699, 43.06306424513917], [-116.7505879229421, 43.06306451196297], [-116.7507107355008, 43.063064778652276], [-116.75071037064365, 43.063154828608525], [-116.75083318338379, 43.06315509516688], [-116.75095599612195, 43.06315536249392], [-116.75107881009352, 43.06315562879136], [-116.75107844454583, 43.06324567874606], [-116.75120125869884, 43.0632459449125], [-116.75120089332918, 43.0633359948666], [-116.75132370643553, 43.06333626089942], [-116.75144652077161, 43.06333652680314], [-116.75156933388126, 43.063336792572414], [-116.75169214821707, 43.063337059113024], [-116.75181496133007, 43.06333732461871], [-116.75181459685749, 43.063427374575525], [-116.75193741138003, 43.063427639952906], [-116.7519370470855, 43.06351768990914], [-116.75205986178948, 43.063517955155504], [-116.75218267526697, 43.06351822026746], [-116.75230548874612, 43.063518485247634], [-116.75242830345512, 43.063518750098616], [-116.75242793987789, 43.06360880005679], [-116.75255075476827, 43.063609064776806], [-116.75255039136916, 43.063699114734405], [-116.75255002919647, 43.06378916469316], [-116.75267284321987, 43.0637894292804], [-116.75267248122528, 43.06387947923862], [-116.75279529543008, 43.06387974369489], [-116.7529181096366, 43.06388000801938], [-116.75291774799982, 43.06397005797781], [-116.75304056238771, 43.063970322171336], [-116.75304020092902, 43.064060372129184], [-116.75316301549836, 43.06406063619173], [-116.75316265421776, 43.06415068614896], [-116.75328546896849, 43.06415095008055], [-116.75340828371729, 43.06415121478082], [-116.75353109969949, 43.064151478451464], [-116.75365391445517, 43.06415174198767], [-116.75377672921257, 43.06415200539203], [-116.7537763688291, 43.06424205535201], [-116.75389918376786, 43.06424231862541], [-116.75402199993643, 43.064242581769655], [-116.75414481487492, 43.06424284567996], [-116.75414445380449, 43.064332894737866], [-116.75426727015254, 43.06433315851984], [-116.7542669092602, 43.06442320757712], [-116.75438972578966, 43.06442347122812], [-116.75438936507541, 43.0645135202848], [-116.75451218178628, 43.06451378380481], [-116.75451182125012, 43.064603832860904], [-116.75463463814239, 43.064604096249944], [-116.75475745381179, 43.06460435860405], [-116.75488026948283, 43.06460462082635], [-116.75500308638364, 43.06460488291948], [-116.755125902058, 43.06460514487822], [-116.75512554364352, 43.0646951948401], [-116.75524835949925, 43.064695456667856], [-116.75524800003474, 43.064785506626514], [-116.75537081730003, 43.06478576832591], [-116.75537045801362, 43.06487581828398], [-116.75549327546031, 43.06487607985238], [-116.75561609167696, 43.06487634218685], [-116.75573890789877, 43.064876603489026], [-116.75586172535041, 43.064876864661976], [-116.75598454157557, 43.06487712570054], [-116.7561073590305, 43.0648773866099], [-116.75623017525533, 43.064877648285346], [-116.75623053205527, 43.06478759831891], [-116.7563533493337, 43.064787858963875], [-116.75647616538564, 43.0647881194744], [-116.75659898143923, 43.064788379853105], [-116.75672179871903, 43.06478864100313], [-116.75684461477589, 43.06478890111827], [-116.75696743206254, 43.06478916110423], [-116.75709024812267, 43.06478942095575], [-116.75721306418444, 43.06478968067548], [-116.7573358814724, 43.06478994116648], [-116.75745869753746, 43.064790200622575], [-116.75745834253512, 43.06488025059716], [-116.75758115878155, 43.064880509922304], [-116.75758080272914, 43.06497055989368], [-116.75770362038512, 43.06497081909044], [-116.7577032645109, 43.065060869061206], [-116.75770290986314, 43.065150919033215], [-116.7578257266521, 43.06515117809714], [-116.7578253721825, 43.06524122806852], [-116.75794818915284, 43.06524148700146], [-116.75794783486137, 43.06533153697223], [-116.75807065201312, 43.06533179577418], [-116.75819346916649, 43.06533205444438], [-116.75831628754968, 43.06533231298532], [-116.75831593256771, 43.06542236295451], [-116.75843875113226, 43.06542262136445], [-116.75856156847028, 43.065422879640025], [-116.7586843858064, 43.06542313868428], [-116.75880720437586, 43.065423396698854], [-116.75880685011127, 43.06551344666984], [-116.75892966886211, 43.06551370455339], [-116.75892931477571, 43.06560375452376], [-116.75905213370793, 43.065604012276324], [-116.75905177979965, 43.06569406224608], [-116.75905142712142, 43.06578411131649], [-116.75917424518313, 43.06578436983676], [-116.75917389268305, 43.065874418906574], [-116.75917353894965, 43.06596446887284], [-116.7591731864428, 43.0660545188403], [-116.75917283270616, 43.06614456880377], [-116.75917248019607, 43.06623461876834], [-116.75917212645969, 43.06632466782846], [-116.75917177394635, 43.066414717790195], [-116.75917142020317, 43.06650476774793], [-116.7590486006998, 43.06650451012168], [-116.75904824677524, 43.0665945600772], [-116.75892542709727, 43.06659430141782], [-116.75892507421948, 43.06668435137369], [-116.75892472011186, 43.06677440132552], [-116.75892436723082, 43.06686445127852], [-116.75892401312, 43.06695450122755], [-116.75892366023923, 43.067044550277224], [-116.75892330612511, 43.06713460022334], [-116.75880048536656, 43.067134342327776], [-116.75880013107104, 43.067224392271726], [-116.7587997780021, 43.06731444221678], [-116.75867695688913, 43.067314183287294], [-116.75867660241056, 43.06740423322755], [-116.75867624915857, 43.06749428316894], [-116.75855342645592, 43.067494025003924], [-116.7585530730225, 43.06758407494312], [-116.75855271836282, 43.0676741239778], [-116.75842989653042, 43.06767386568192], [-116.75842954291397, 43.067763915617434], [-116.75830671967523, 43.06776365718634], [-116.75830636587736, 43.067853707119625], [-116.75818354246398, 43.06785344765541], [-116.7581831884847, 43.06794349758646], [-116.75806036488962, 43.067943238890116], [-116.7580600107289, 43.06803328881892], [-116.75805965656659, 43.068123338746325], [-116.7579368326171, 43.06812307901605], [-116.75793647827334, 43.068213128941196], [-116.75793612269969, 43.06830317886229], [-116.75793576835267, 43.068393228784586], [-116.7579354127758, 43.06848327870284], [-116.75781258933702, 43.06848301884009], [-116.75781223357868, 43.06857306875616], [-116.75781187904695, 43.06866311867337], [-116.75768905524666, 43.06866285957763], [-116.75768869930528, 43.06875290949003], [-116.75756587533033, 43.068752649361194], [-116.75756551920755, 43.06884269927132], [-116.75756516431133, 43.0689327491826], [-116.75744233874666, 43.06893248981821], [-116.757441983669, 43.06902253972731], [-116.75744162859324, 43.06911258873441], [-116.75744127228408, 43.06920263863806], [-116.75731844740992, 43.06920237914199], [-116.75731809091928, 43.069292429043344], [-116.75731773565526, 43.06938247894589], [-116.75731737916496, 43.06947252794394], [-116.75719455375298, 43.069472268313625], [-116.7571941970777, 43.06956231820989], [-116.75707137148756, 43.06956205844689], [-116.75707101585903, 43.06965210834358], [-116.75707065900417, 43.06974215733572], [-116.75694783305607, 43.06974189743925], [-116.75694747601622, 43.06983194732963], [-116.75694712020297, 43.06992199722117], [-116.75694676315979, 43.0700120471087], [-116.75694640734682, 43.0701020960969], [-116.75694605030037, 43.070192145981586], [-116.75694569448055, 43.07028219586746], [-116.75694533743085, 43.0703722457493], [-116.75682251022577, 43.0703719857153], [-116.75669968302586, 43.07037172464899], [-116.75669932561487, 43.07046177452776], [-116.75657649823327, 43.070461514229336], [-116.75645366962502, 43.0704612537964], [-116.75633084224668, 43.07046099323429], [-116.75620801487355, 43.07046073163985], [-116.75608518627023, 43.07046047081148], [-116.75596235889682, 43.070460209853884], [-116.7559620004053, 43.070550259726296], [-116.75583917285373, 43.07054999863605], [-116.75583881541262, 43.07064004760835], [-116.75571598645458, 43.07063978638286], [-116.7557156288284, 43.07072983625339]]]}}]})), options=['attribution_control', 'basemap', 'bounce_at_zoom_limits', 'box_zoom', 'center', 'close_popup_on_click', 'double_click_zoom', 'dragging', 'inertia', 'inertia_deceleration', 'inertia_max_speed', 'keyboard', 'keyboard_pan_offset', 'keyboard_zoom_offset', 'max_zoom', 'min_zoom', 'scroll_wheel_zoom', 'tap', 'tap_tolerance', 'touch_zoom', 'world_copy_jump', 'zoom', 'zoom_animation_threshold', 'zoom_control', 'zoom_start'], zoom=15)"
      ]
     },
     "metadata": {},
     "output_type": "display_data"
    }
   ],
   "source": [
    "m = Map(center=[43.06745, -116.75489], zoom=15)\n",
    "with open('reynolds_geojson_latlon.geojson') as f:\n",
    "    data = json.load(f)\n",
    "g = GeoJSON(data=data)\n",
    "m.add_layer(g)\n",
    "m"
   ]
  },
  {
   "cell_type": "markdown",
   "metadata": {},
   "source": [
    "### 2) Download TestCases from HS and Installation to prepare SUMMA simulation"
   ]
  },
  {
   "cell_type": "code",
   "execution_count": 3,
   "metadata": {},
   "outputs": [],
   "source": [
    "# To authenticate using HTTP Basic authentication.\n",
    "from hs_restclient import HydroShare, HydroShareAuthBasic"
   ]
  },
  {
   "cell_type": "code",
   "execution_count": 4,
   "metadata": {},
   "outputs": [],
   "source": [
    "# import utils.py to download TestCases from HS, unzip and installation\n",
    "from pysumma.utils import utils"
   ]
  },
  {
   "cell_type": "code",
   "execution_count": 5,
   "metadata": {},
   "outputs": [],
   "source": [
    "# define directory where you save SUMMA TestCases\n",
    "save_filepath = '/media/sf_pysumma'"
   ]
  },
  {
   "cell_type": "code",
   "execution_count": null,
   "metadata": {},
   "outputs": [],
   "source": [
    "# call install_test_cases_hs method to download TestCase from HS, unzip and install the TestCase.\n",
    "hs_path = utils.install_test_cases_hs(save_filepath)"
   ]
  },
  {
   "cell_type": "code",
   "execution_count": 6,
   "metadata": {},
   "outputs": [],
   "source": [
    "# if you already have TestCase in your local, you can skip previous statement\n",
    "hs_path = save_filepath+'/a0105d479c334764ba84633c5b9c1c01/a0105d479c334764ba84633c5b9c1c01/data/contents'"
   ]
  },
  {
   "cell_type": "markdown",
   "metadata": {},
   "source": [
    "### 3) Create pySUMMA Simulation Object of 1d Richards method and Run SUMMA Model"
   ]
  },
  {
   "cell_type": "code",
   "execution_count": 7,
   "metadata": {},
   "outputs": [],
   "source": [
    "from pysumma.Simulation import Simulation\n",
    "from pysumma.Plotting import Plotting"
   ]
  },
  {
   "cell_type": "code",
   "execution_count": 8,
   "metadata": {},
   "outputs": [
    {
     "name": "stdout",
     "output_type": "stream",
     "text": [
      "ModelOuput master file filepath: /media/sf_pysumma/pysumma/sopron_2018_notebooks/var_lookup.f90\n"
     ]
    }
   ],
   "source": [
    "# create a pySUMMA simulation object using the SUMMA 'file manager' input file \n",
    "S_1dRichards = Simulation(hs_path + '/summaTestCases_2.x/settings/wrrPaperTestCases/figure09/summa_fileManager_1dRichards.txt')"
   ]
  },
  {
   "cell_type": "code",
   "execution_count": 9,
   "metadata": {},
   "outputs": [],
   "source": [
    "# set SUMMA executable file\n",
    "S_1dRichards.executable = \"/media/sf_pysumma/summa-master/bin/summa.exe\""
   ]
  },
  {
   "cell_type": "code",
   "execution_count": 10,
   "metadata": {},
   "outputs": [
    {
     "data": {
      "text/plain": [
       "('2002-07-01 00:00', '2008-09-30 00:00')"
      ]
     },
     "execution_count": 10,
     "metadata": {},
     "output_type": "execute_result"
    }
   ],
   "source": [
    "# check the simulation start and finish times\n",
    "S_1dRichards.decision_obj.simulStart.value, S_1dRichards.decision_obj.simulFinsh.value"
   ]
  },
  {
   "cell_type": "code",
   "execution_count": 11,
   "metadata": {},
   "outputs": [
    {
     "data": {
      "text/plain": [
       "(['qTopmodl', 'bigBuckt', 'noXplict'], 'noXplict')"
      ]
     },
     "execution_count": 11,
     "metadata": {},
     "output_type": "execute_result"
    }
   ],
   "source": [
    "# check option and selected method of (11) choice of groundwater parameterization in Decision file\n",
    "S_1dRichards.decision_obj.groundwatr.options, S_1dRichards.decision_obj.groundwatr.value"
   ]
  },
  {
   "cell_type": "code",
   "execution_count": 12,
   "metadata": {},
   "outputs": [
    {
     "data": {
      "text/plain": [
       "(['constant', 'pow_prof'], 'constant')"
      ]
     },
     "execution_count": 12,
     "metadata": {},
     "output_type": "execute_result"
    }
   ],
   "source": [
    "# check option and selected method of (12) choice of hydraulic conductivity profile in Decision file\n",
    "S_1dRichards.decision_obj.hc_profile.options, S_1dRichards.decision_obj.hc_profile.value"
   ]
  },
  {
   "cell_type": "code",
   "execution_count": 13,
   "metadata": {},
   "outputs": [
    {
     "data": {
      "text/plain": [
       "(['drainage', 'presHead', 'bottmPsi', 'zeroFlux'], 'drainage')"
      ]
     },
     "execution_count": 13,
     "metadata": {},
     "output_type": "execute_result"
    }
   ],
   "source": [
    "# check option and selected method of (16) type of lower boundary condition for soil hydrology in Decision file\n",
    "S_1dRichards.decision_obj.bcLowrSoiH.options, S_1dRichards.decision_obj.bcLowrSoiH.value"
   ]
  },
  {
   "cell_type": "code",
   "execution_count": 14,
   "metadata": {},
   "outputs": [
    {
     "data": {
      "text/plain": [
       "(['funcSoilWet', 'mixConstit', 'hanssonVZJ'], 'mixConstit')"
      ]
     },
     "execution_count": 14,
     "metadata": {},
     "output_type": "execute_result"
    }
   ],
   "source": [
    "# check option and selected method of (27) choice of thermal conductivity representation for soil in Decision file\n",
    "S_1dRichards.decision_obj.thCondSoil.options, S_1dRichards.decision_obj.thCondSoil.value"
   ]
  },
  {
   "cell_type": "code",
   "execution_count": 15,
   "metadata": {},
   "outputs": [
    {
     "data": {
      "text/plain": [
       "'summa_zBasinModelVarMeta.txt'"
      ]
     },
     "execution_count": 15,
     "metadata": {},
     "output_type": "execute_result"
    }
   ],
   "source": [
    "# check Basin variable meta data in file manager file\n",
    "S_1dRichards.meta_basinvar.filename"
   ]
  },
  {
   "cell_type": "code",
   "execution_count": 16,
   "metadata": {},
   "outputs": [
    {
     "data": {
      "text/plain": [
       "'summa_zBasinParamInfo.txt'"
      ]
     },
     "execution_count": 16,
     "metadata": {},
     "output_type": "execute_result"
    }
   ],
   "source": [
    "# check Basin Parameter info data in file manager file\n",
    "S_1dRichards.basin_par.filename"
   ]
  },
  {
   "cell_type": "code",
   "execution_count": 17,
   "metadata": {},
   "outputs": [
    {
     "data": {
      "text/plain": [
       "'summa_zForcingFileList_riparianAspen_1dRichards.txt'"
      ]
     },
     "execution_count": 17,
     "metadata": {},
     "output_type": "execute_result"
    }
   ],
   "source": [
    "# check Forcing list data in file manager file\n",
    "S_1dRichards.forcing_list.filename"
   ]
  },
  {
   "cell_type": "code",
   "execution_count": 18,
   "metadata": {},
   "outputs": [
    {
     "data": {
      "text/plain": [
       "'summa_zInitialCond.nc'"
      ]
     },
     "execution_count": 18,
     "metadata": {},
     "output_type": "execute_result"
    }
   ],
   "source": [
    "# check Initial condition data in file manager file\n",
    "S_1dRichards.initial_cond.filename"
   ]
  },
  {
   "cell_type": "markdown",
   "metadata": {},
   "source": [
    "#### If you have an output file, you don't need to run SUMMA. Move next"
   ]
  },
  {
   "cell_type": "code",
   "execution_count": 19,
   "metadata": {},
   "outputs": [
    {
     "name": "stdout",
     "output_type": "stream",
     "text": [
      "file_suffix is '1dRichards_local'.\n",
      "file_master is '/media/sf_pysumma/a0105d479c334764ba84633c5b9c1c01/a0105d479c334764ba84633c5b9c1c01/data/contents/summaTestCases_2.x/settings/wrrPaperTestCases/figure09/summa_fileManager_1dRichards.txt'.\n",
      "start at 22:56:35\n",
      "Name of Model Output control file: /media/sf_pysumma/a0105d479c334764ba84633c5b9c1c01/a0105d479c334764ba84633c5b9c1c01/data/contents/summaTestCases_2.x/settings/meta/Model_Output.txt\n",
      "decisions file =  /media/sf_pysumma/a0105d479c334764ba84633c5b9c1c01/a0105d479c334764ba84633c5b9c1c01/data/contents/summaTestCases_2.x/settings/wrrPaperTestCases/figure09/summa_zDecisions_1dRichards.txt\n",
      "   1 simulStart: 2002-07-01 00:00\n",
      "   2 simulFinsh: 2008-09-30 00:00\n",
      "   3 soilCatTbl: ROSETTA\n",
      "   4 vegeParTbl: USGS\n",
      "   5 soilStress: NoahType\n",
      "   6 stomResist: BallBerry\n",
      "   7 num_method: itertive\n",
      "   8 fDerivMeth: analytic\n",
      "   9 LAI_method: specified\n",
      "  10 f_Richards: mixdform\n",
      "  11 groundwatr: noXplict\n",
      "  12 hc_profile: constant\n",
      "  13 bcUpprTdyn: nrg_flux\n",
      "  14 bcLowrTdyn: zeroFlux\n",
      "  15 bcUpprSoiH: liq_flux\n",
      "  16 bcLowrSoiH: drainage\n",
      "  17 veg_traits: CM_QJRMS1988\n",
      "  18 canopyEmis: difTrans\n",
      "  19 snowIncept: lightSnow\n",
      "  20 windPrfile: logBelowCanopy\n",
      "  21 astability: louisinv\n",
      "  22 canopySrad: BeersLaw\n",
      "  23 alb_method: varDecay\n",
      "  24 compaction: anderson\n",
      "  25 snowLayers: CLM_2010\n",
      "  26 thCondSnow: jrdn1991\n",
      "  27 thCondSoil: mixConstit\n",
      "  28 spatial_gw: localColumn\n",
      "  29 subRouting: timeDlay\n",
      "startTime: iyyy, im, id, ih, imin = 2002  7  1  0  0\n",
      "finshTime: iyyy, im, id, ih, imin = 2008  9 30  0  0\n",
      "/media/sf_pysumma/a0105d479c334764ba84633c5b9c1c01/a0105d479c334764ba84633c5b9c1c01/data/contents/summaTestCases_2.x/settings/wrrPaperTestCases/figure09/summa_zLocalParamInfo-2mRoots.txt\n",
      "/media/sf_pysumma/a0105d479c334764ba84633c5b9c1c01/a0105d479c334764ba84633c5b9c1c01/data/contents/summaTestCases_2.x/settings/wrrPaperTestCases/figure09/summa_zBasinParamInfo.txt\n",
      "Skipping over SLTYPE = STAS\n",
      "Skipping over SLTYPE = STAS-RUC\n",
      " hruIndex\n",
      " frozenPrecipMultip\n",
      " theta_mp\n",
      " theta_sat\n",
      " theta_res\n",
      " vGn_alpha\n",
      " vGn_n\n",
      " f_impede\n",
      " k_soil\n",
      " k_macropore\n",
      " critSoilWilting\n",
      " critSoilTranspire\n",
      " winterSAI\n",
      " summerLAI\n",
      " heightCanopyTop\n",
      " heightCanopyBottom\n",
      " kAnisotropic\n",
      " zScale_TOPMODEL\n",
      " qSurfScale\n",
      " fieldCapacity\n",
      "Created output file:/media/sf_pysumma/a0105d479c334764ba84633c5b9c1c01/a0105d479c334764ba84633c5b9c1c01/data/contents/summaTestCases_2.x/output/wrrPaperTestCases/figure09/basinRunoff_output_1dRichards_local_timestep.nc\n",
      "\n",
      "initial date/time = 2018-06-06  22:56:35.597\n",
      "  final date/time = 2018-06-06  22:56:58.511\n",
      "\n",
      "     elapsed init =   9.9000000E-02 s\n",
      "    fraction init =   4.3205027E-03 s\n",
      "\n",
      "     elapsed read =   0.6870000     s\n",
      "    fraction read =   2.9981671E-02 s\n",
      "\n",
      "    elapsed write =    6.716000     s\n",
      "   fraction write =   0.2930959     s\n",
      "\n",
      "  elapsed physics =    15.34000     s\n",
      " fraction physics =   0.6694597     s\n",
      "\n",
      "     elapsed time =    22.91400     s\n",
      "       or             0.3819000     m\n",
      "       or             6.3650000E-03 h\n",
      "       or             2.6520833E-04 d\n",
      "\n",
      "   number threads =          1\n",
      "\n",
      " FORTRAN STOP: finished simulation successfully.\n",
      "\n"
     ]
    }
   ],
   "source": [
    "# run the model giving the output the suffix \"1dRichards_local\" and get \"results_1dRichards\" object\n",
    "results_1dRichards, output_R = S_1dRichards.execute(run_suffix=\"1dRichards_local\", run_option = 'local')"
   ]
  },
  {
   "cell_type": "code",
   "execution_count": 20,
   "metadata": {},
   "outputs": [],
   "source": [
    "R = Plotting(output_R)\n",
    "results_1dRichards = R.open_netcdf()"
   ]
  },
  {
   "cell_type": "markdown",
   "metadata": {},
   "source": [
    "### 4) Create pySUMMA Simulation Object of Lumped Topmodel method and Run SUMMA Model"
   ]
  },
  {
   "cell_type": "code",
   "execution_count": 20,
   "metadata": {},
   "outputs": [
    {
     "name": "stdout",
     "output_type": "stream",
     "text": [
      "ModelOuput master file filepath: /media/sf_pysumma/pysumma/sopron_2018_notebooks/var_lookup.f90\n"
     ]
    }
   ],
   "source": [
    "# create a pySUMMA simulation object using the SUMMA 'file manager' input file \n",
    "S_lumpedTopmodel = Simulation(hs_path + '/summaTestCases_2.x/settings/wrrPaperTestCases/figure09/summa_fileManager_lumpedTopmodel.txt')"
   ]
  },
  {
   "cell_type": "code",
   "execution_count": 21,
   "metadata": {},
   "outputs": [],
   "source": [
    "# set SUMMA executable file\n",
    "S_lumpedTopmodel.executable = \"/media/sf_pysumma/summa-master/bin/summa.exe\""
   ]
  },
  {
   "cell_type": "code",
   "execution_count": 22,
   "metadata": {},
   "outputs": [
    {
     "data": {
      "text/plain": [
       "('2001-07-01 00:00', '2008-09-30 00:00')"
      ]
     },
     "execution_count": 22,
     "metadata": {},
     "output_type": "execute_result"
    }
   ],
   "source": [
    "# check the simulation start and finish times\n",
    "S_lumpedTopmodel.decision_obj.simulStart.value, S_lumpedTopmodel.decision_obj.simulFinsh.value"
   ]
  },
  {
   "cell_type": "code",
   "execution_count": 23,
   "metadata": {},
   "outputs": [
    {
     "data": {
      "text/plain": [
       "(['qTopmodl', 'bigBuckt', 'noXplict'], 'qTopmodl')"
      ]
     },
     "execution_count": 23,
     "metadata": {},
     "output_type": "execute_result"
    }
   ],
   "source": [
    "# check option and selected method of (11) choice of groundwater parameterization in Decision file\n",
    "S_lumpedTopmodel.decision_obj.groundwatr.options, S_lumpedTopmodel.decision_obj.groundwatr.value"
   ]
  },
  {
   "cell_type": "code",
   "execution_count": 24,
   "metadata": {},
   "outputs": [
    {
     "data": {
      "text/plain": [
       "(['constant', 'pow_prof'], 'pow_prof')"
      ]
     },
     "execution_count": 24,
     "metadata": {},
     "output_type": "execute_result"
    }
   ],
   "source": [
    "# check option and selected method of (12) choice of hydraulic conductivity profile in Decision file\n",
    "S_lumpedTopmodel.decision_obj.hc_profile.options, S_lumpedTopmodel.decision_obj.hc_profile.value"
   ]
  },
  {
   "cell_type": "code",
   "execution_count": 25,
   "metadata": {},
   "outputs": [
    {
     "data": {
      "text/plain": [
       "(['drainage', 'presHead', 'bottmPsi', 'zeroFlux'], 'zeroFlux')"
      ]
     },
     "execution_count": 25,
     "metadata": {},
     "output_type": "execute_result"
    }
   ],
   "source": [
    "# check option and selected method of (16) type of lower boundary condition for soil hydrology in Decision file\n",
    "S_lumpedTopmodel.decision_obj.bcLowrSoiH.options, S_lumpedTopmodel.decision_obj.bcLowrSoiH.value"
   ]
  },
  {
   "cell_type": "code",
   "execution_count": 26,
   "metadata": {},
   "outputs": [
    {
     "data": {
      "text/plain": [
       "(['funcSoilWet', 'mixConstit', 'hanssonVZJ'], 'funcSoilWet')"
      ]
     },
     "execution_count": 26,
     "metadata": {},
     "output_type": "execute_result"
    }
   ],
   "source": [
    "# check option and selected method of (27) choice of thermal conductivity representation for soil in Decision file\n",
    "S_lumpedTopmodel.decision_obj.thCondSoil.options, S_lumpedTopmodel.decision_obj.thCondSoil.value"
   ]
  },
  {
   "cell_type": "code",
   "execution_count": 27,
   "metadata": {},
   "outputs": [
    {
     "data": {
      "text/plain": [
       "'summa_zBasinModelVarMeta.txt'"
      ]
     },
     "execution_count": 27,
     "metadata": {},
     "output_type": "execute_result"
    }
   ],
   "source": [
    "# check Basin variable meta data in file manager file\n",
    "S_lumpedTopmodel.meta_basinvar.filename"
   ]
  },
  {
   "cell_type": "code",
   "execution_count": 28,
   "metadata": {},
   "outputs": [
    {
     "data": {
      "text/plain": [
       "'summa_zBasinParamInfo.txt'"
      ]
     },
     "execution_count": 28,
     "metadata": {},
     "output_type": "execute_result"
    }
   ],
   "source": [
    "# check Basin Parameter info data in file manager file\n",
    "S_lumpedTopmodel.basin_par.filename"
   ]
  },
  {
   "cell_type": "code",
   "execution_count": 29,
   "metadata": {},
   "outputs": [
    {
     "data": {
      "text/plain": [
       "'summa_zForcingFileList_riparianAspen_lumpedTopmodel.txt'"
      ]
     },
     "execution_count": 29,
     "metadata": {},
     "output_type": "execute_result"
    }
   ],
   "source": [
    "# check Forcing list data in file manager file\n",
    "S_lumpedTopmodel.forcing_list.filename"
   ]
  },
  {
   "cell_type": "code",
   "execution_count": 30,
   "metadata": {},
   "outputs": [
    {
     "data": {
      "text/plain": [
       "'summa_zInitialCond.nc'"
      ]
     },
     "execution_count": 30,
     "metadata": {},
     "output_type": "execute_result"
    }
   ],
   "source": [
    "# check Initial condition data in file manager file\n",
    "S_lumpedTopmodel.initial_cond.filename"
   ]
  },
  {
   "cell_type": "markdown",
   "metadata": {},
   "source": [
    "#### If you have an output file, you don't need to run SUMMA. Move next"
   ]
  },
  {
   "cell_type": "code",
   "execution_count": 31,
   "metadata": {},
   "outputs": [
    {
     "name": "stdout",
     "output_type": "stream",
     "text": [
      "file_suffix is 'lumpedTopmodel_local'.\n",
      "file_master is '/media/sf_pysumma/a0105d479c334764ba84633c5b9c1c01/a0105d479c334764ba84633c5b9c1c01/data/contents/summaTestCases_2.x/settings/wrrPaperTestCases/figure09/summa_fileManager_lumpedTopmodel.txt'.\n",
      "start at 22:56:59\n",
      "Name of Model Output control file: /media/sf_pysumma/a0105d479c334764ba84633c5b9c1c01/a0105d479c334764ba84633c5b9c1c01/data/contents/summaTestCases_2.x/settings/meta/Model_Output.txt\n",
      "decisions file =  /media/sf_pysumma/a0105d479c334764ba84633c5b9c1c01/a0105d479c334764ba84633c5b9c1c01/data/contents/summaTestCases_2.x/settings/wrrPaperTestCases/figure09/summa_zDecisions_lumpedTopmodel.txt\n",
      "   1 simulStart: 2001-07-01 00:00\n",
      "   2 simulFinsh: 2008-09-30 00:00\n",
      "   3 soilCatTbl: ROSETTA\n",
      "   4 vegeParTbl: USGS\n",
      "   5 soilStress: NoahType\n",
      "   6 stomResist: BallBerry\n",
      "   7 num_method: itertive\n",
      "   8 fDerivMeth: analytic\n",
      "   9 LAI_method: specified\n",
      "  10 f_Richards: mixdform\n",
      "  11 groundwatr: qTopmodl\n",
      "  12 hc_profile: pow_prof\n",
      "  13 bcUpprTdyn: nrg_flux\n",
      "  14 bcLowrTdyn: zeroFlux\n",
      "  15 bcUpprSoiH: liq_flux\n",
      "  16 bcLowrSoiH: zeroFlux\n",
      "  17 veg_traits: CM_QJRMS1988\n",
      "  18 canopyEmis: difTrans\n",
      "  19 snowIncept: lightSnow\n",
      "  20 windPrfile: logBelowCanopy\n",
      "  21 astability: louisinv\n",
      "  22 canopySrad: BeersLaw\n",
      "  23 alb_method: varDecay\n",
      "  24 compaction: anderson\n",
      "  25 snowLayers: CLM_2010\n",
      "  26 thCondSnow: jrdn1991\n",
      "  27 thCondSoil: funcSoilWet\n",
      "  28 spatial_gw: localColumn\n",
      "  29 subRouting: timeDlay\n",
      "startTime: iyyy, im, id, ih, imin = 2001  7  1  0  0\n",
      "finshTime: iyyy, im, id, ih, imin = 2008  9 30  0  0\n",
      "/media/sf_pysumma/a0105d479c334764ba84633c5b9c1c01/a0105d479c334764ba84633c5b9c1c01/data/contents/summaTestCases_2.x/settings/wrrPaperTestCases/figure09/summa_zLocalParamInfo.txt\n",
      "/media/sf_pysumma/a0105d479c334764ba84633c5b9c1c01/a0105d479c334764ba84633c5b9c1c01/data/contents/summaTestCases_2.x/settings/wrrPaperTestCases/figure09/summa_zBasinParamInfo.txt\n",
      "Skipping over SLTYPE = STAS\n",
      "Skipping over SLTYPE = STAS-RUC\n",
      " hruIndex\n",
      " frozenPrecipMultip\n",
      " theta_mp\n",
      " theta_sat\n",
      " theta_res\n",
      " vGn_alpha\n",
      " vGn_n\n",
      " f_impede\n",
      " k_soil\n",
      " k_macropore\n",
      " critSoilWilting\n",
      " critSoilTranspire\n",
      " winterSAI\n",
      " summerLAI\n",
      " heightCanopyTop\n",
      " heightCanopyBottom\n",
      " kAnisotropic\n",
      " zScale_TOPMODEL\n",
      " qSurfScale\n",
      " fieldCapacity\n",
      "Created output file:/media/sf_pysumma/a0105d479c334764ba84633c5b9c1c01/a0105d479c334764ba84633c5b9c1c01/data/contents/summaTestCases_2.x/output/wrrPaperTestCases/figure09/basinRunoff_output_lumpedTopmodel_local_timestep.nc\n",
      "\n",
      "initial date/time = 2018-06-06  22:56:59.044\n",
      "  final date/time = 2018-06-06  22:57:29.585\n",
      "\n",
      "     elapsed init =   0.1320000     s\n",
      "    fraction init =   4.3220589E-03 s\n",
      "\n",
      "     elapsed read =   0.8800000     s\n",
      "    fraction read =   2.8813726E-02 s\n",
      "\n",
      "    elapsed write =    7.906000     s\n",
      "   fraction write =   0.2588651     s\n",
      "\n",
      "  elapsed physics =    21.54000     s\n",
      " fraction physics =   0.7052814     s\n",
      "\n",
      "     elapsed time =    30.54100     s\n",
      "       or             0.5090167     m\n",
      "       or             8.4836111E-03 h\n",
      "       or             3.5348380E-04 d\n",
      "\n",
      "   number threads =          1\n",
      "\n",
      " FORTRAN STOP: finished simulation successfully.\n",
      "\n"
     ]
    }
   ],
   "source": [
    "# run the model giving the output the suffix \"lumpedTopmodel_local\" and get \"results_lumpedTopmodel\" object\n",
    "results_lumpedTopmodel, output_LT = S_lumpedTopmodel.execute(run_suffix=\"lumpedTopmodel_local\", run_option = 'local')"
   ]
  },
  {
   "cell_type": "code",
   "execution_count": 31,
   "metadata": {},
   "outputs": [],
   "source": [
    "L = Plotting(output_LT)\n",
    "results_lumpedTopmodel = L.open_netcdf()"
   ]
  },
  {
   "cell_type": "markdown",
   "metadata": {},
   "source": [
    "### 5) Create pySUMMA Simulation Object of Distributed Topmodel method and Run SUMMA Model"
   ]
  },
  {
   "cell_type": "code",
   "execution_count": 32,
   "metadata": {},
   "outputs": [
    {
     "name": "stdout",
     "output_type": "stream",
     "text": [
      "ModelOuput master file filepath: /media/sf_pysumma/pysumma/sopron_2018_notebooks/var_lookup.f90\n"
     ]
    }
   ],
   "source": [
    "# create a pySUMMA simulation object using the SUMMA 'file manager' input file \n",
    "S_distributedTopmodel = Simulation(hs_path + '/summaTestCases_2.x/settings/wrrPaperTestCases/figure09/summa_fileManager_distributedTopmodel.txt')"
   ]
  },
  {
   "cell_type": "code",
   "execution_count": 33,
   "metadata": {},
   "outputs": [],
   "source": [
    "# set SUMMA executable file\n",
    "S_distributedTopmodel.executable = \"/media/sf_pysumma/summa-master/bin/summa.exe\""
   ]
  },
  {
   "cell_type": "code",
   "execution_count": 34,
   "metadata": {},
   "outputs": [
    {
     "data": {
      "text/plain": [
       "('2001-07-01 00:00', '2008-09-30 00:00')"
      ]
     },
     "execution_count": 34,
     "metadata": {},
     "output_type": "execute_result"
    }
   ],
   "source": [
    "# check the simulation start and finish times\n",
    "S_distributedTopmodel.decision_obj.simulStart.value, S_distributedTopmodel.decision_obj.simulFinsh.value"
   ]
  },
  {
   "cell_type": "code",
   "execution_count": 35,
   "metadata": {},
   "outputs": [
    {
     "data": {
      "text/plain": [
       "(['qTopmodl', 'bigBuckt', 'noXplict'], 'qTopmodl')"
      ]
     },
     "execution_count": 35,
     "metadata": {},
     "output_type": "execute_result"
    }
   ],
   "source": [
    "# check option and selected method of (11) choice of groundwater parameterization in Decision file\n",
    "S_distributedTopmodel.decision_obj.groundwatr.options, S_distributedTopmodel.decision_obj.groundwatr.value"
   ]
  },
  {
   "cell_type": "code",
   "execution_count": 36,
   "metadata": {},
   "outputs": [
    {
     "data": {
      "text/plain": [
       "(['constant', 'pow_prof'], 'pow_prof')"
      ]
     },
     "execution_count": 36,
     "metadata": {},
     "output_type": "execute_result"
    }
   ],
   "source": [
    "# check option and selected method of (12) choice of hydraulic conductivity profile in Decision file\n",
    "S_distributedTopmodel.decision_obj.hc_profile.options, S_distributedTopmodel.decision_obj.hc_profile.value"
   ]
  },
  {
   "cell_type": "code",
   "execution_count": 37,
   "metadata": {},
   "outputs": [
    {
     "data": {
      "text/plain": [
       "(['drainage', 'presHead', 'bottmPsi', 'zeroFlux'], 'zeroFlux')"
      ]
     },
     "execution_count": 37,
     "metadata": {},
     "output_type": "execute_result"
    }
   ],
   "source": [
    "# check option and selected method of (16) type of lower boundary condition for soil hydrology in Decision file\n",
    "S_distributedTopmodel.decision_obj.bcLowrSoiH.options, S_distributedTopmodel.decision_obj.bcLowrSoiH.value"
   ]
  },
  {
   "cell_type": "code",
   "execution_count": 38,
   "metadata": {},
   "outputs": [
    {
     "data": {
      "text/plain": [
       "(['funcSoilWet', 'mixConstit', 'hanssonVZJ'], 'funcSoilWet')"
      ]
     },
     "execution_count": 38,
     "metadata": {},
     "output_type": "execute_result"
    }
   ],
   "source": [
    "# check option and selected method of (27) choice of thermal conductivity representation for soil in Decision file\n",
    "S_distributedTopmodel.decision_obj.thCondSoil.options, S_distributedTopmodel.decision_obj.thCondSoil.value"
   ]
  },
  {
   "cell_type": "code",
   "execution_count": 39,
   "metadata": {},
   "outputs": [
    {
     "data": {
      "text/plain": [
       "'summa_zBasinModelVarMeta.txt'"
      ]
     },
     "execution_count": 39,
     "metadata": {},
     "output_type": "execute_result"
    }
   ],
   "source": [
    "# check Basin variable meta data in file manager file\n",
    "S_distributedTopmodel.meta_basinvar.filename"
   ]
  },
  {
   "cell_type": "code",
   "execution_count": 40,
   "metadata": {},
   "outputs": [
    {
     "data": {
      "text/plain": [
       "'summa_zBasinParamInfo.txt'"
      ]
     },
     "execution_count": 40,
     "metadata": {},
     "output_type": "execute_result"
    }
   ],
   "source": [
    "# check Basin Parameter info data in file manager file\n",
    "S_distributedTopmodel.basin_par.filename"
   ]
  },
  {
   "cell_type": "code",
   "execution_count": 41,
   "metadata": {},
   "outputs": [
    {
     "data": {
      "text/plain": [
       "'summa_zForcingFileList_fullDist.txt'"
      ]
     },
     "execution_count": 41,
     "metadata": {},
     "output_type": "execute_result"
    }
   ],
   "source": [
    "# check Forcing list data in file manager file\n",
    "S_distributedTopmodel.forcing_list.filename"
   ]
  },
  {
   "cell_type": "code",
   "execution_count": 42,
   "metadata": {},
   "outputs": [
    {
     "data": {
      "text/plain": [
       "'summa_zInitialCond_disTop.nc'"
      ]
     },
     "execution_count": 42,
     "metadata": {},
     "output_type": "execute_result"
    }
   ],
   "source": [
    "# check Initial condition data in file manager file\n",
    "S_distributedTopmodel.initial_cond.filename"
   ]
  },
  {
   "cell_type": "markdown",
   "metadata": {},
   "source": [
    "#### If you have output an file, you don't need to run SUMMA. Move next"
   ]
  },
  {
   "cell_type": "code",
   "execution_count": 43,
   "metadata": {},
   "outputs": [
    {
     "name": "stdout",
     "output_type": "stream",
     "text": [
      "file_suffix is 'distributedTopmodel_local'.\n",
      "file_master is '/media/sf_pysumma/a0105d479c334764ba84633c5b9c1c01/a0105d479c334764ba84633c5b9c1c01/data/contents/summaTestCases_2.x/settings/wrrPaperTestCases/figure09/summa_fileManager_distributedTopmodel.txt'.\n",
      "start at 22:57:39\n",
      "Name of Model Output control file: /media/sf_pysumma/a0105d479c334764ba84633c5b9c1c01/a0105d479c334764ba84633c5b9c1c01/data/contents/summaTestCases_2.x/settings/meta/Model_Output.txt\n",
      "decisions file =  /media/sf_pysumma/a0105d479c334764ba84633c5b9c1c01/a0105d479c334764ba84633c5b9c1c01/data/contents/summaTestCases_2.x/settings/wrrPaperTestCases/figure09/summa_zDecisions_distributedTopmodel.txt\n",
      "   1 simulStart: 2001-07-01 00:00\n",
      "   2 simulFinsh: 2008-09-30 00:00\n",
      "   3 soilCatTbl: ROSETTA\n",
      "   4 vegeParTbl: USGS\n",
      "   5 soilStress: NoahType\n",
      "   6 stomResist: BallBerry\n",
      "   7 num_method: itertive\n",
      "   8 fDerivMeth: analytic\n",
      "   9 LAI_method: specified\n",
      "  10 f_Richards: mixdform\n",
      "  11 groundwatr: qTopmodl\n",
      "  12 hc_profile: pow_prof\n",
      "  13 bcUpprTdyn: nrg_flux\n",
      "  14 bcLowrTdyn: zeroFlux\n",
      "  15 bcUpprSoiH: liq_flux\n",
      "  16 bcLowrSoiH: zeroFlux\n",
      "  17 veg_traits: CM_QJRMS1988\n",
      "  18 canopyEmis: difTrans\n",
      "  19 snowIncept: lightSnow\n",
      "  20 windPrfile: logBelowCanopy\n",
      "  21 astability: louisinv\n",
      "  22 canopySrad: BeersLaw\n",
      "  23 alb_method: varDecay\n",
      "  24 compaction: anderson\n",
      "  25 snowLayers: CLM_2010\n",
      "  26 thCondSnow: jrdn1991\n",
      "  27 thCondSoil: funcSoilWet\n",
      "  28 spatial_gw: localColumn\n",
      "  29 subRouting: timeDlay\n",
      "startTime: iyyy, im, id, ih, imin = 2001  7  1  0  0\n",
      "finshTime: iyyy, im, id, ih, imin = 2008  9 30  0  0\n",
      "/media/sf_pysumma/a0105d479c334764ba84633c5b9c1c01/a0105d479c334764ba84633c5b9c1c01/data/contents/summaTestCases_2.x/settings/wrrPaperTestCases/figure09/summa_zLocalParamInfo.txt\n",
      "/media/sf_pysumma/a0105d479c334764ba84633c5b9c1c01/a0105d479c334764ba84633c5b9c1c01/data/contents/summaTestCases_2.x/settings/wrrPaperTestCases/figure09/summa_zBasinParamInfo.txt\n",
      "Skipping over SLTYPE = STAS\n",
      "Skipping over SLTYPE = STAS-RUC\n",
      " hruIndex\n",
      " frozenPrecipMultip\n",
      " theta_mp\n",
      " theta_sat\n",
      " theta_res\n",
      " vGn_alpha\n",
      " vGn_n\n",
      " f_impede\n",
      " k_soil\n",
      " k_macropore\n",
      " critSoilWilting\n",
      " critSoilTranspire\n",
      " winterSAI\n",
      " summerLAI\n",
      " heightCanopyTop\n",
      " heightCanopyBottom\n",
      " kAnisotropic\n",
      " zScale_TOPMODEL\n",
      " qSurfScale\n",
      " fieldCapacity\n",
      "Created output file:/media/sf_pysumma/a0105d479c334764ba84633c5b9c1c01/a0105d479c334764ba84633c5b9c1c01/data/contents/summaTestCases_2.x/output/wrrPaperTestCases/figure09/basinRunoff_output_distributedTopmodel_local_timestep.nc\n",
      "\n",
      "initial date/time = 2018-06-06  22:57:39.337\n",
      "  final date/time = 2018-06-06  23:00:10.492\n",
      "\n",
      "     elapsed init =   0.1070000     s\n",
      "    fraction init =   7.0788264E-04 s\n",
      "\n",
      "     elapsed read =    1.232000     s\n",
      "    fraction read =   8.1505739E-03 s\n",
      "\n",
      "    elapsed write =    23.82000     s\n",
      "   fraction write =   0.1575866     s\n",
      "\n",
      "  elapsed physics =    125.8880     s\n",
      " fraction physics =   0.8328405     s\n",
      "\n",
      "     elapsed time =    151.1550     s\n",
      "       or              2.519250     m\n",
      "       or             4.1987500E-02 h\n",
      "       or             1.7494792E-03 d\n",
      "\n",
      "   number threads =          1\n",
      "\n",
      " FORTRAN STOP: finished simulation successfully.\n",
      "\n"
     ]
    }
   ],
   "source": [
    "# run the model giving the output the suffix \"distributedTopmodel_docker_develop\" and get \"results_distributedTopmodel\" object\n",
    "results_distributedTopmodel, output_DT = S_distributedTopmodel.execute(run_suffix=\"distributedTopmodel_local\", run_option = 'local')"
   ]
  },
  {
   "cell_type": "code",
   "execution_count": 41,
   "metadata": {},
   "outputs": [],
   "source": [
    "D = Plotting(output_DT)\n",
    "results_distributedTopmodel = D.open_netcdf()"
   ]
  },
  {
   "cell_type": "markdown",
   "metadata": {},
   "source": [
    "## 4. Results"
   ]
  },
  {
   "cell_type": "markdown",
   "metadata": {},
   "source": [
    "### Recreate the Figure 9 plot from Clark et al., 2015: The Basin-Wide Runoff for the model representation of the lateral flux of liquid water"
   ]
  },
  {
   "cell_type": "code",
   "execution_count": 44,
   "metadata": {},
   "outputs": [],
   "source": [
    "from pysumma.Plotting import Plotting\n",
    "from jupyterthemes import jtplot\n",
    "import matplotlib.pyplot as plt\n",
    "import pandas as pd"
   ]
  },
  {
   "cell_type": "markdown",
   "metadata": {},
   "source": [
    "#### 4.1) Create function to calculate daily runoff from SUMMA output for the period 1 oct 2002 to 1 oct 2008"
   ]
  },
  {
   "cell_type": "code",
   "execution_count": 45,
   "metadata": {},
   "outputs": [],
   "source": [
    "def calc_total_runoff(runoff_output_df):\n",
    "    # average Instance Runoff variable is runoff\n",
    "    runoff = runoff_output_df['averageInstantRunoff']\n",
    "    dates = runoff.coords['time'].data\n",
    "    # create data value(Y-axis) attribute from ouput netcdf\n",
    "    data_values = runoff.data*86400000\n",
    "    # create two dimensional tabular data structure \n",
    "    total_runoff_df = pd.DataFrame(data_values, index=dates)\n",
    "    # round time to nearest hour (ex. 2006-10-01T00:59:59.99 -> 2006-10-01T01:00:00)\n",
    "    total_runoff_df.index = total_runoff_df.index.round(\"D\")\n",
    "    # set the time period to display plot \n",
    "    total_runoff_df = total_runoff_df.loc[\"2002-10-01\":\"2008-10-01\"]\n",
    "    # resample data by the average value hourly\n",
    "    total_runoff_by_daily = total_runoff_df.resample(\"D\").mean()\n",
    "    return total_runoff_by_daily"
   ]
  },
  {
   "cell_type": "markdown",
   "metadata": {},
   "source": [
    "#### 4.2) Get daily runoff"
   ]
  },
  {
   "cell_type": "code",
   "execution_count": 46,
   "metadata": {},
   "outputs": [],
   "source": [
    "# get daily runoff output using 1d Richards method(1d Richards method appied 1 hru)\n",
    "daily_1dRichards = calc_total_runoff(results_1dRichards)\n",
    "# get daily runoff output using lumped Topmodel method (lumped Topmodel method appied 1 hru)\n",
    "daily_lumpedTopmodel = calc_total_runoff(results_lumpedTopmodel)\n",
    "# get daily runoff output using distributed Topmodel method (distributed Topmodel method appied 1 hru)\n",
    "daily_distributedTopmodel = calc_total_runoff(results_distributedTopmodel)"
   ]
  },
  {
   "cell_type": "markdown",
   "metadata": {},
   "source": [
    "#### 4.3) Combine the different lateral flux parameterizations on simulations of runoff into a single Pandas Dataframe"
   ]
  },
  {
   "cell_type": "code",
   "execution_count": 47,
   "metadata": {},
   "outputs": [],
   "source": [
    "# Combine the different lateral flux parameterizations on simulations of runoff\n",
    "Runoff_Combine = pd.concat([daily_1dRichards, daily_lumpedTopmodel, daily_distributedTopmodel], axis=1)\n",
    "# add label \n",
    "Runoff_Combine.columns = [\"Baseflow = 1D Richards'\", 'Baseflow = Topmodel(lumped)', 'Baseflow = Topmodel(distributed)']"
   ]
  },
  {
   "cell_type": "code",
   "execution_count": 48,
   "metadata": {},
   "outputs": [
    {
     "data": {
      "text/html": [
       "<div>\n",
       "<style scoped>\n",
       "    .dataframe tbody tr th:only-of-type {\n",
       "        vertical-align: middle;\n",
       "    }\n",
       "\n",
       "    .dataframe tbody tr th {\n",
       "        vertical-align: top;\n",
       "    }\n",
       "\n",
       "    .dataframe thead th {\n",
       "        text-align: right;\n",
       "    }\n",
       "</style>\n",
       "<table border=\"1\" class=\"dataframe\">\n",
       "  <thead>\n",
       "    <tr style=\"text-align: right;\">\n",
       "      <th></th>\n",
       "      <th>Baseflow = 1D Richards'</th>\n",
       "      <th>Baseflow = Topmodel(lumped)</th>\n",
       "      <th>Baseflow = Topmodel(distributed)</th>\n",
       "    </tr>\n",
       "  </thead>\n",
       "  <tbody>\n",
       "    <tr>\n",
       "      <th>2002-10-01</th>\n",
       "      <td>0.000072</td>\n",
       "      <td>0.000003</td>\n",
       "      <td>0.000112</td>\n",
       "    </tr>\n",
       "    <tr>\n",
       "      <th>2002-10-02</th>\n",
       "      <td>0.000072</td>\n",
       "      <td>0.000003</td>\n",
       "      <td>0.000112</td>\n",
       "    </tr>\n",
       "    <tr>\n",
       "      <th>2002-10-03</th>\n",
       "      <td>0.000072</td>\n",
       "      <td>0.000003</td>\n",
       "      <td>0.000111</td>\n",
       "    </tr>\n",
       "    <tr>\n",
       "      <th>2002-10-04</th>\n",
       "      <td>0.000072</td>\n",
       "      <td>0.000003</td>\n",
       "      <td>0.000110</td>\n",
       "    </tr>\n",
       "    <tr>\n",
       "      <th>2002-10-05</th>\n",
       "      <td>0.000072</td>\n",
       "      <td>0.000003</td>\n",
       "      <td>0.000110</td>\n",
       "    </tr>\n",
       "  </tbody>\n",
       "</table>\n",
       "</div>"
      ],
      "text/plain": [
       "            Baseflow = 1D Richards'  Baseflow = Topmodel(lumped)  \\\n",
       "2002-10-01                 0.000072                     0.000003   \n",
       "2002-10-02                 0.000072                     0.000003   \n",
       "2002-10-03                 0.000072                     0.000003   \n",
       "2002-10-04                 0.000072                     0.000003   \n",
       "2002-10-05                 0.000072                     0.000003   \n",
       "\n",
       "            Baseflow = Topmodel(distributed)  \n",
       "2002-10-01                          0.000112  \n",
       "2002-10-02                          0.000112  \n",
       "2002-10-03                          0.000111  \n",
       "2002-10-04                          0.000110  \n",
       "2002-10-05                          0.000110  "
      ]
     },
     "execution_count": 48,
     "metadata": {},
     "output_type": "execute_result"
    }
   ],
   "source": [
    "Runoff_Combine.head()"
   ]
  },
  {
   "cell_type": "markdown",
   "metadata": {},
   "source": [
    "#### 4.4) Add obervation data from streamflow station and Reynolds Mountain East to the plot"
   ]
  },
  {
   "cell_type": "code",
   "execution_count": 49,
   "metadata": {},
   "outputs": [],
   "source": [
    "# create pySUMMA Plotting Object\n",
    "Val_Streamflow = Plotting(hs_path + '/summaTestCases_2.x/testCases_data/validationData/ReynoldsCreek_valData.nc')"
   ]
  },
  {
   "cell_type": "code",
   "execution_count": 50,
   "metadata": {},
   "outputs": [],
   "source": [
    "# read Runoff data(Q) from validation netcdf file\n",
    "obs_streamflow = Val_Streamflow.ds['Q']\n",
    "# create dates(X-axis) attribute from validation netcdf file\n",
    "dates = obs_streamflow.coords['time'].data\n",
    "# Change unit from cm/hr to mm/day\n",
    "data_values = obs_streamflow.data*24*10\n",
    "# create two dimensional tabular data structure \n",
    "df = pd.DataFrame(data_values, index=dates)\n",
    "# set the time period to display plot\n",
    "df_filt = df.loc[\"2002-10-01\":\"2008-10-01\"]\n",
    "# select label\n",
    "df_filt.columns = ['Observations']\n",
    "# resample data by the average daily from hourly \n",
    "obs_streamflow_daily = df_filt.resample(\"D\").mean()\n",
    "# set x index accoording to the change of time step\n",
    "obs_date = obs_streamflow_daily.index"
   ]
  },
  {
   "cell_type": "markdown",
   "metadata": {},
   "source": [
    "#### 4.5) Plotting output of the Parameterization of the Lateral Flux of Liquid Water and observation data"
   ]
  },
  {
   "cell_type": "code",
   "execution_count": 51,
   "metadata": {},
   "outputs": [],
   "source": [
    "graph_runoff = pd.concat([Runoff_Combine, obs_streamflow_daily], 1)"
   ]
  },
  {
   "cell_type": "code",
   "execution_count": 53,
   "metadata": {},
   "outputs": [
    {
     "data": {
      "image/png": "[encoded data removed]",
      "text/plain": [
       "<matplotlib.figure.Figure at 0x7fc1bfe78550>"
      ]
     },
     "metadata": {},
     "output_type": "display_data"
    }
   ],
   "source": [
    "graph_runoff.plot()\n",
    "jtplot.figsize(x=20, y=10)"
   ]
  },
  {
   "cell_type": "markdown",
   "metadata": {},
   "source": [
    "## 5. Discussion"
   ]
  },
  {
   "cell_type": "markdown",
   "metadata": {},
   "source": [
    "As stated in Clark et al., 2015, the following insights can be gained from this analysis:\n",
    "\n",
    "* The simulation in Figure 8 illustrates the model representation of the lateral flux of liquid water, which determines (in part) the availability of soil water.\n",
    "\n",
    "* The results in Figure 8 demonstrate strong sensitivities the lateral flow parameterization. The parameterizations are based on power-law transmissivity profiles (both lumped and distributed) that have more drainage of soil water at deeper soil layers; however, the distributed simulations include inflow from upslope, resulting in more plant-available soil water and an increase in transpiration. Taken together, the results in Figure 8 illustrate the strong interdependencies among different modeling decisions, which complicate discriminating among competing process parameterizations.\n",
    "\n",
    "* Basin-wide runoff is a challenging variable to evaluate: it is the integrated response of the system to externalforcing and, as such, represents an aggregation of many thermodynamic and hydrologic processes.\n",
    "\n",
    "* Nevertheless, the fingerprint of different parameterizations to simulate lateral fluxes of liquid water are often clearly evident in the basin-wide runoff time series [e.g., Yilmaz et al., 2008; Clark et al., 2009], and there is a large amount of valuable information content in the runoff time series itself [Clark et al., 2011]. \n",
    "\n",
    "* In addition, streamflow is often the most accurately measured, spatially integrated component of the hydrological cycle. Here, we compare the model simulations of runoff from a small subset of model options to the observations in the Reynolds Mountain East watershed across multiple water years [Reba et al., 2011]. \n",
    "\n",
    "* The subset of model options is selected to illustrate the different types of model behavior, rather than provide an exhaustive analysis of all modeling alternatives.\n",
    "\n",
    "* Figure 9 illustrates that simulations of basin-wide runoff strongly depends on the model representation of lateral flow. Simulations based on the 1D Richards equation exhibit too many ‘‘spikes’’ in the hydrograph (top plot of Figure 9). \n",
    "\n",
    "* In this approach, which common in traditional land-surface models [e.g., Chen and Dudhia,2001], there is no explicit representation of lateral flow – i.e., the source/sink term for lateral subsurface flow in equation (32) is set to zero – and vertical drainage from the bottom of the soil profile is delivered immediately to the stream. \n",
    "\n",
    "* This exceedingly spiky behavior occurs because the model does not include the longer residence times present in natural systems. The spatially distributed simulations – i.e., including lateral flow among soil columns – represent the observations reasonably well, without the ephemeral behavior in the 1D Richards solution (bottom plot of Figure 9). \n",
    "\n",
    "* In these distributed simulations, multiple hillslope soil columns contribute inflow to the riparian zone, resulting in the persistence of partially saturated soils in the riparian zone and smoother (less spiky) runoff dynamics that are consistent with the observations."
   ]
  },
  {
   "cell_type": "markdown",
   "metadata": {},
   "source": [
    "## 6. Post notebook and simulation results back to Hydroshare"
   ]
  },
  {
   "cell_type": "code",
   "execution_count": 54,
   "metadata": {},
   "outputs": [
    {
     "name": "stdout",
     "output_type": "stream",
     "text": [
      "Successfully established a connection with HydroShare\n"
     ]
    }
   ],
   "source": [
    "from pysumma.hydroshare import hydroshare\n",
    "hs = hydroshare.hydroshare()"
   ]
  },
  {
   "cell_type": "code",
   "execution_count": 55,
   "metadata": {},
   "outputs": [],
   "source": [
    "# write meta data such as abstract, title, keywords, rtype\n",
    "abstract = 'output of SUMMA(Fig9)'\n",
    "title = 'output of SUMMA(Fig9)'\n",
    "keywords = ('SUMMA', 'Hydrologic Model')\n",
    "rtype = 'GenericResource'\n",
    "files = output_R, output_LT, output_DT\n",
    "metadata = '[{\"creator\":{\"name\":\"Youngdon Choi\"}}, {\"creator\":{\"name\":\"Jeffrey Sadler\"}}]'\n",
    "extra_metadata = '{\"key-1\": \"value-1\", \"key-2\": \"value-2\"}'"
   ]
  },
  {
   "cell_type": "code",
   "execution_count": 56,
   "metadata": {},
   "outputs": [
    {
     "name": "stdout",
     "output_type": "stream",
     "text": [
      "Resource Created Successfully                           \n",
      "Successfully Added Content Files                      \n"
     ]
    },
    {
     "data": {
      "text/html": [
       "Resource id: 3064b120d8eb4c30b6d61a58dfdc1ae8"
      ],
      "text/plain": [
       "<IPython.core.display.HTML object>"
      ]
     },
     "metadata": {},
     "output_type": "display_data"
    },
    {
     "data": {
      "text/html": [
       "<a href=https://www.hydroshare.org/resource/3064b120d8eb4c30b6d61a58dfdc1ae8 target=\"_blank\">Open Resource in HydroShare<a>"
      ],
      "text/plain": [
       "<IPython.core.display.HTML object>"
      ]
     },
     "metadata": {},
     "output_type": "display_data"
    }
   ],
   "source": [
    "# post simulation results of simpleResistance back to HS\n",
    "resource_id = hs.createHydroShareResource(title=title, content_files=files, keywords=keywords, abstract=abstract, resource_type='genericresource', public=False)"
   ]
  },
  {
   "cell_type": "markdown",
   "metadata": {},
   "source": [
    "#### Save this notebook file and add the notebook to the resource of summa output"
   ]
  },
  {
   "cell_type": "code",
   "execution_count": 57,
   "metadata": {},
   "outputs": [
    {
     "name": "stdout",
     "output_type": "stream",
     "text": [
      "Successfully Added Content Files                      \n"
     ]
    }
   ],
   "source": [
    "# add a notebook to the resource of summa output\n",
    "npath = save_filepath+'/pysumma/sopron_2018_notebooks/pySUMMA_Demo_Example_Fig9_Using_TestCase_from_Hydroshare.ipynb'\n",
    "# check the resource id on HS that created.\n",
    "hs.addContentToExistingResource(resource_id, [npath])"
   ]
  },
  {
   "cell_type": "markdown",
   "metadata": {},
   "source": [
    "## 7. make this resource public"
   ]
  },
  {
   "cell_type": "code",
   "execution_count": null,
   "metadata": {},
   "outputs": [],
   "source": [
    "# check the resource id \n",
    "C_resource_id = 'c3696bdac0954a92be0bf12da9cc96a8'"
   ]
  },
  {
   "cell_type": "code",
   "execution_count": null,
   "metadata": {},
   "outputs": [],
   "source": [
    "# make a resource public\n",
    "hs.setAccessRules(C_resource_id, public=True)"
   ]
  },
  {
   "cell_type": "code",
   "execution_count": null,
   "metadata": {},
   "outputs": [],
   "source": []
  }
 ],
 "metadata": {
  "kernelspec": {
   "display_name": "Python 3",
   "language": "python",
   "name": "python3"
  },
  "language_info": {
   "codemirror_mode": {
    "name": "ipython",
    "version": 3
   },
   "file_extension": ".py",
   "mimetype": "text/x-python",
   "name": "python",
   "nbconvert_exporter": "python",
   "pygments_lexer": "ipython3",
   "version": "3.6.3"
  }
 },
 "nbformat": 4,
 "nbformat_minor": 2
}
